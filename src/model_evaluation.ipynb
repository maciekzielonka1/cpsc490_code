{
  "nbformat": 4,
  "nbformat_minor": 0,
  "metadata": {
    "colab": {
      "name": "model_evaluation.ipynb",
      "provenance": [],
      "collapsed_sections": []
    },
    "kernelspec": {
      "name": "python3",
      "display_name": "Python 3"
    },
    "language_info": {
      "name": "python"
    }
  },
  "cells": [
    {
      "cell_type": "code",
      "metadata": {
        "id": "NTT9gA6JNY51"
      },
      "source": [
        "import os\n",
        "os.chdir('/content/drive/MyDrive/Maciej_Zielonka_Senior_Project/Maciej_Zielonka_CPSC_490/src')"
      ],
      "execution_count": 2,
      "outputs": []
    },
    {
      "cell_type": "markdown",
      "metadata": {
        "id": "pLfbbifMlIVE"
      },
      "source": [
        "# Model Evaluation\n",
        "\n",
        "Here we will run some evaluation techniques to see which model is best to use for the sake of this project, and which features contribute most to the classification"
      ]
    },
    {
      "cell_type": "code",
      "metadata": {
        "id": "JyMwXonFNrnF"
      },
      "source": [
        "# Preprocessing :\n",
        "from sklearn.preprocessing import LabelEncoder\n",
        "from sklearn.metrics import classification_report,confusion_matrix\n",
        "from itertools import product\n",
        "from sklearn.model_selection import train_test_split\n",
        "\n",
        "# Classifiers\n",
        "from sklearn.linear_model import LogisticRegression\n",
        "from sklearn.ensemble import RandomForestClassifier\n",
        "from sklearn import metrics\n",
        "from sklearn import svm\n",
        "from sklearn import tree\n",
        "import matplotlib.pyplot as plt\n",
        "from sklearn.discriminant_analysis import LinearDiscriminantAnalysis\n",
        "from sklearn.naive_bayes import GaussianNB\n",
        "from sklearn.manifold import TSNE\n",
        "from sklearn.decomposition import PCA\n",
        "from sklearn.neural_network import MLPClassifier\n",
        "from sklearn.neighbors import KNeighborsClassifier\n",
        "from sklearn.svm import SVC\n",
        "from sklearn.gaussian_process import GaussianProcessClassifier\n",
        "from sklearn.gaussian_process.kernels import RBF\n",
        "from sklearn.tree import DecisionTreeClassifier\n",
        "from sklearn.ensemble import RandomForestClassifier, AdaBoostClassifier\n",
        "from sklearn.naive_bayes import GaussianNB\n",
        "from sklearn.discriminant_analysis import QuadraticDiscriminantAnalysis\n",
        "\n",
        "import numpy as np"
      ],
      "execution_count": 5,
      "outputs": []
    },
    {
      "cell_type": "code",
      "metadata": {
        "id": "5EIg89i3Nxim"
      },
      "source": [
        "# # Load the Data\n",
        "import pandas as pd\n",
        "\n",
        "features_df = pd.read_csv(\"features_df.csv\")\n",
        "features = features_df.drop(['Unnamed: 0', 'Engaged'], axis=1)\n",
        "labels = features_df['Engaged']\n",
        "X = features.values\n",
        "y = labels.values"
      ],
      "execution_count": 6,
      "outputs": []
    },
    {
      "cell_type": "code",
      "metadata": {
        "id": "HDt_06mRN4qx"
      },
      "source": [
        "def clf_accuracy(clf, clf_name, x_test, y_test):\n",
        "  y_pred = clf.predict(x_test)\n",
        "  disp = metrics.plot_confusion_matrix(clf, x_test, y_test,\n",
        "                                  display_labels=[0,1],\n",
        "                                  cmap=plt.cm.Blues)\n",
        "\n",
        "  print(disp.confusion_matrix)\n",
        "  print(\"Accuracy of\", clf_name, \":\", metrics.accuracy_score(y_test, y_pred))\n",
        "  print(classification_report(y_test, y_pred))"
      ],
      "execution_count": 7,
      "outputs": []
    },
    {
      "cell_type": "markdown",
      "metadata": {
        "id": "LM-3L36LOGcw"
      },
      "source": [
        "### Logistic Regression"
      ]
    },
    {
      "cell_type": "code",
      "metadata": {
        "colab": {
          "base_uri": "https://localhost:8080/",
          "height": 626
        },
        "id": "6d2bA8MuN5qh",
        "outputId": "e669d309-6728-48d1-9f09-bf007c92f51b"
      },
      "source": [
        "def run_logistic_regression(features_array, labels_array):\n",
        "  x_train, x_test, y_train, y_test = train_test_split(features_array, labels_array, test_size=0.3, stratify=labels_array)\n",
        "  clf = LogisticRegression()\n",
        "  clf.fit(x_train, y_train)\n",
        "  clf_accuracy(clf, \"Logistic Regression\", x_test, y_test)  \n",
        "  return clf\n",
        "lr_clf = run_logistic_regression(X, y)"
      ],
      "execution_count": 8,
      "outputs": [
        {
          "output_type": "stream",
          "text": [
            "/usr/local/lib/python3.7/dist-packages/sklearn/linear_model/_logistic.py:940: ConvergenceWarning: lbfgs failed to converge (status=1):\n",
            "STOP: TOTAL NO. of ITERATIONS REACHED LIMIT.\n",
            "\n",
            "Increase the number of iterations (max_iter) or scale the data as shown in:\n",
            "    https://scikit-learn.org/stable/modules/preprocessing.html\n",
            "Please also refer to the documentation for alternative solver options:\n",
            "    https://scikit-learn.org/stable/modules/linear_model.html#logistic-regression\n",
            "  extra_warning_msg=_LOGISTIC_SOLVER_CONVERGENCE_MSG)\n"
          ],
          "name": "stderr"
        },
        {
          "output_type": "stream",
          "text": [
            "[[35 12]\n",
            " [ 8 46]]\n",
            "Accuracy of Logistic Regression : 0.801980198019802\n",
            "              precision    recall  f1-score   support\n",
            "\n",
            "         0.0       0.81      0.74      0.78        47\n",
            "         1.0       0.79      0.85      0.82        54\n",
            "\n",
            "    accuracy                           0.80       101\n",
            "   macro avg       0.80      0.80      0.80       101\n",
            "weighted avg       0.80      0.80      0.80       101\n",
            "\n"
          ],
          "name": "stdout"
        },
        {
          "output_type": "display_data",
          "data": {
            "image/png": "[encoded data removed]",
            "text/plain": [
              "<Figure size 432x288 with 2 Axes>"
            ]
          },
          "metadata": {
            "tags": [],
            "needs_background": "light"
          }
        }
      ]
    },
    {
      "cell_type": "markdown",
      "metadata": {
        "id": "lGU-oOd-OJju"
      },
      "source": [
        "### Random Forest"
      ]
    },
    {
      "cell_type": "code",
      "metadata": {
        "colab": {
          "base_uri": "https://localhost:8080/",
          "height": 487
        },
        "id": "RCIrpg5_OAq0",
        "outputId": "76c83303-160e-48e5-fc63-cac18f9aff86"
      },
      "source": [
        "def run_random_forest(features_array, labels_array):\n",
        "  x_train, x_test, y_train, y_test = train_test_split(features_array, labels_array, test_size=0.3, stratify=labels_array)\n",
        "  clf = RandomForestClassifier()\n",
        "  clf.fit(x_train, y_train)\n",
        "  clf_accuracy(clf, \"Random Forest\", x_test, y_test)\n",
        "  return clf\n",
        "tree_clf = run_random_forest(X, y)"
      ],
      "execution_count": 12,
      "outputs": [
        {
          "output_type": "stream",
          "text": [
            "[[37 10]\n",
            " [ 8 46]]\n",
            "Accuracy of Random Forest : 0.8217821782178217\n",
            "              precision    recall  f1-score   support\n",
            "\n",
            "         0.0       0.82      0.79      0.80        47\n",
            "         1.0       0.82      0.85      0.84        54\n",
            "\n",
            "    accuracy                           0.82       101\n",
            "   macro avg       0.82      0.82      0.82       101\n",
            "weighted avg       0.82      0.82      0.82       101\n",
            "\n"
          ],
          "name": "stdout"
        },
        {
          "output_type": "display_data",
          "data": {
            "image/png": "[encoded data removed]",
            "text/plain": [
              "<Figure size 432x288 with 2 Axes>"
            ]
          },
          "metadata": {
            "tags": [],
            "needs_background": "light"
          }
        }
      ]
    },
    {
      "cell_type": "markdown",
      "metadata": {
        "id": "MWFh-0S7ONIo"
      },
      "source": [
        "### SVM"
      ]
    },
    {
      "cell_type": "code",
      "metadata": {
        "colab": {
          "base_uri": "https://localhost:8080/",
          "height": 487
        },
        "id": "j0RzWk0ROP2Y",
        "outputId": "25a3428c-ca3b-4347-af46-6cb21f6313ba"
      },
      "source": [
        "def run_svm(features_array, labels_array):\n",
        "  x_train, x_test, y_train, y_test = train_test_split(features_array, labels_array, test_size=0.3, stratify=labels_array)\n",
        "  clf = svm.SVC(kernel='linear')\n",
        "  clf.fit(x_train, y_train)\n",
        "  clf_accuracy(clf, \"SVM\", x_test, y_test)\n",
        "  return clf\n",
        "svm_clf = run_svm(X, y)"
      ],
      "execution_count": 13,
      "outputs": [
        {
          "output_type": "stream",
          "text": [
            "[[31 16]\n",
            " [ 8 46]]\n",
            "Accuracy of SVM : 0.7623762376237624\n",
            "              precision    recall  f1-score   support\n",
            "\n",
            "         0.0       0.79      0.66      0.72        47\n",
            "         1.0       0.74      0.85      0.79        54\n",
            "\n",
            "    accuracy                           0.76       101\n",
            "   macro avg       0.77      0.76      0.76       101\n",
            "weighted avg       0.77      0.76      0.76       101\n",
            "\n"
          ],
          "name": "stdout"
        },
        {
          "output_type": "display_data",
          "data": {
            "image/png": "[encoded data removed]",
            "text/plain": [
              "<Figure size 432x288 with 2 Axes>"
            ]
          },
          "metadata": {
            "tags": [],
            "needs_background": "light"
          }
        }
      ]
    },
    {
      "cell_type": "markdown",
      "metadata": {
        "id": "c0fHs5Z8OV-d"
      },
      "source": [
        "### Decision Tree"
      ]
    },
    {
      "cell_type": "code",
      "metadata": {
        "colab": {
          "base_uri": "https://localhost:8080/",
          "height": 487
        },
        "id": "8t5HALQmOVUw",
        "outputId": "b3687bc4-ed70-4511-b8bb-2f3b61233f31"
      },
      "source": [
        "def run_decision_tree(features_array, labels_array):\n",
        "  x_train, x_test, y_train, y_test = train_test_split(features_array, labels_array, test_size=0.3, stratify=labels_array)\n",
        "  clf = tree.DecisionTreeClassifier()\n",
        "  clf.fit(x_train, y_train)\n",
        "  clf_accuracy(clf, \"Decision Tree\", x_test, y_test)\n",
        "  return clf\n",
        "decision_tree_clf = run_decision_tree(X, y)"
      ],
      "execution_count": 10,
      "outputs": [
        {
          "output_type": "stream",
          "text": [
            "[[30 17]\n",
            " [16 38]]\n",
            "Accuracy of Decision Tree : 0.6732673267326733\n",
            "              precision    recall  f1-score   support\n",
            "\n",
            "         0.0       0.65      0.64      0.65        47\n",
            "         1.0       0.69      0.70      0.70        54\n",
            "\n",
            "    accuracy                           0.67       101\n",
            "   macro avg       0.67      0.67      0.67       101\n",
            "weighted avg       0.67      0.67      0.67       101\n",
            "\n"
          ],
          "name": "stdout"
        },
        {
          "output_type": "display_data",
          "data": {
            "image/png": "[encoded data removed]",
            "text/plain": [
              "<Figure size 432x288 with 2 Axes>"
            ]
          },
          "metadata": {
            "tags": [],
            "needs_background": "light"
          }
        }
      ]
    },
    {
      "cell_type": "markdown",
      "metadata": {
        "id": "nWKviUXdObhn"
      },
      "source": [
        "### Linear Discriminant Analysis"
      ]
    },
    {
      "cell_type": "code",
      "metadata": {
        "colab": {
          "base_uri": "https://localhost:8080/",
          "height": 487
        },
        "id": "BRf0ZC7ROeEE",
        "outputId": "ed9e1a1f-1fdb-46ca-e29d-a7195e9901fa"
      },
      "source": [
        "def run_lda(features_array, labels_array):\n",
        "  x_train, x_test, y_train, y_test = train_test_split(features_array, labels_array, test_size=0.3, stratify=labels_array)\n",
        "  clf = LinearDiscriminantAnalysis()\n",
        "  clf.fit(x_train, y_train)\n",
        "  clf_accuracy(clf, \"LDA\", x_test, y_test)\n",
        "  return clf\n",
        "lda_clf = run_lda(X, y)"
      ],
      "execution_count": 11,
      "outputs": [
        {
          "output_type": "stream",
          "text": [
            "[[32 15]\n",
            " [15 39]]\n",
            "Accuracy of LDA : 0.7029702970297029\n",
            "              precision    recall  f1-score   support\n",
            "\n",
            "         0.0       0.68      0.68      0.68        47\n",
            "         1.0       0.72      0.72      0.72        54\n",
            "\n",
            "    accuracy                           0.70       101\n",
            "   macro avg       0.70      0.70      0.70       101\n",
            "weighted avg       0.70      0.70      0.70       101\n",
            "\n"
          ],
          "name": "stdout"
        },
        {
          "output_type": "display_data",
          "data": {
            "image/png": "[encoded data removed]",
            "text/plain": [
              "<Figure size 432x288 with 2 Axes>"
            ]
          },
          "metadata": {
            "tags": [],
            "needs_background": "light"
          }
        }
      ]
    },
    {
      "cell_type": "markdown",
      "metadata": {
        "id": "UFv6IS6RQ7fi"
      },
      "source": [
        "### Naive Bayes"
      ]
    },
    {
      "cell_type": "code",
      "metadata": {
        "colab": {
          "base_uri": "https://localhost:8080/",
          "height": 487
        },
        "id": "fvB5guy1Q9hm",
        "outputId": "3ce1f528-3eed-41d8-9114-f841f79935fb"
      },
      "source": [
        "def run_nb(features_array, labels_array):\n",
        "  x_train, x_test, y_train, y_test = train_test_split(features_array, labels_array, test_size=0.3, stratify=labels_array)\n",
        "  clf = GaussianNB()\n",
        "  clf.fit(x_train, y_train)\n",
        "  clf_accuracy(clf, \"Naive Bayes\", x_test, y_test)\n",
        "  return clf\n",
        "lda_clf = run_nb(X, y)"
      ],
      "execution_count": 13,
      "outputs": [
        {
          "output_type": "stream",
          "text": [
            "[[39  8]\n",
            " [21 33]]\n",
            "Accuracy of Naive Bayes : 0.7128712871287128\n",
            "              precision    recall  f1-score   support\n",
            "\n",
            "         0.0       0.65      0.83      0.73        47\n",
            "         1.0       0.80      0.61      0.69        54\n",
            "\n",
            "    accuracy                           0.71       101\n",
            "   macro avg       0.73      0.72      0.71       101\n",
            "weighted avg       0.73      0.71      0.71       101\n",
            "\n"
          ],
          "name": "stdout"
        },
        {
          "output_type": "display_data",
          "data": {
            "image/png": "[encoded data removed]",
            "text/plain": [
              "<Figure size 432x288 with 2 Axes>"
            ]
          },
          "metadata": {
            "tags": [],
            "needs_background": "light"
          }
        }
      ]
    },
    {
      "cell_type": "markdown",
      "metadata": {
        "id": "2LF1twLwPxG9"
      },
      "source": [
        "## Feature Engineering"
      ]
    },
    {
      "cell_type": "code",
      "metadata": {
        "colab": {
          "base_uri": "https://localhost:8080/",
          "height": 1000
        },
        "id": "NOEe4tmJPuAl",
        "outputId": "12a6e7ab-c63f-426d-dfd3-8d63a94f9578"
      },
      "source": [
        "# Preprocessing :\n",
        "from sklearn.preprocessing import LabelEncoder\n",
        "from sklearn.metrics import classification_report, confusion_matrix, roc_curve, roc_auc_score, precision_recall_curve, f1_score, auc\n",
        "from itertools import product\n",
        "from sklearn import model_selection\n",
        "import pandas as pd\n",
        "\n",
        "names = [\n",
        "    'Nearest Neighbors', \n",
        "    'Linear SVM', \n",
        "    'RBF SVM',\n",
        "    'Gaussian Process', \n",
        "    'Decision Tree', \n",
        "    'Random Forest', \n",
        "    'Neural Net', \n",
        "    'AdaBoost', \n",
        "    'Naive Bayes', \n",
        "    'QDA'\n",
        "]\n",
        "classifiers = [\n",
        "    KNeighborsClassifier(3), # number of neighbors = 3\n",
        "    SVC(kernel='linear', C=0.025, probability=True), # linear kernel with regularization/misclassification error = 0.025\n",
        "    SVC(gamma=2, C=0.025, probability=True), # looser SVM with higher regularization\n",
        "    GaussianProcessClassifier(1.0 * RBF(1.0)), # RBF kernel\n",
        "    DecisionTreeClassifier(),\n",
        "    RandomForestClassifier(), # estimators = # of trees in the forest, max_features = # of features to consider when looking for best split\n",
        "    MLPClassifier(alpha=0.025, max_iter=1000), # multilayer perceptron with L2 penalty/regularization = 1, max_iter = limit as solver iterates until convergence\n",
        "    AdaBoostClassifier(), \n",
        "    GaussianNB(),\n",
        "    QuadraticDiscriminantAnalysis()\n",
        "]\n",
        "X_train, X_test, y_train, y_test = train_test_split(features, labels, test_size=.5, random_state=42)\n",
        "\n",
        "scores = []\n",
        "accuracy_vals = []\n",
        "recall_vals = []\n",
        "specificity_vals = []\n",
        "precision_vals = []\n",
        "false_positive_rates = []\n",
        "false_negative_rates = []\n",
        "cv_means = []\n",
        "cv_stds = []\n",
        "no_skill_aucs = []\n",
        "logistic_aucs = []\n",
        "prc_aucs = []\n",
        "prc_f1_scores = []\n",
        "lr_precisions = []\n",
        "lr_recalls = []\n",
        "\n",
        "for name, clf in zip(names, classifiers):\n",
        "    clf.fit(X_train, y_train)\n",
        "    \n",
        "    score = clf.score(X_test, y_test)\n",
        "    scores.append(score)\n",
        "    \n",
        "    y_hat = clf.predict(X_test)\n",
        "    \n",
        "    tn, fp, fn, tp = confusion_matrix(y_test, y_hat).ravel()\n",
        "    accuracy_vals.append((tn + tp) / (tn + fp + fn + tp))\n",
        "    recall_vals.append(tp / (fn + tp))\n",
        "    specificity_vals.append(tn / (tn + fp))\n",
        "    precision_vals.append(tp / (fp + tp))\n",
        "    false_positive_rates.append(fp / (tn + fp))\n",
        "    false_negative_rates.append(fn / (fn + tp))\n",
        "    # print(classification_report(Y_Test,predictionnb))\n",
        "    \n",
        "    kfold = model_selection.KFold(n_splits=10)\n",
        "    cv_score = model_selection.cross_val_score(clf, X, y, cv=kfold)\n",
        "    cv_means.append(cv_score.mean() * 100.0)\n",
        "    cv_stds.append(cv_score.std() * 100.0)\n",
        "    print(clf)\n",
        "    lr_probs_roc = clf.predict_proba(X_test)\n",
        "    ns_probs_roc = [0 for _ in range(len(y_test))]\n",
        "    lr_probs_roc = lr_probs_roc[:, 1]\n",
        "    ns_auc_roc = roc_auc_score(y_test, ns_probs_roc)\n",
        "    lr_auc_roc = roc_auc_score(y_test, lr_probs_roc)\n",
        "    no_skill_aucs.append(ns_auc_roc)\n",
        "    logistic_aucs.append(lr_auc_roc)\n",
        "    # calculate roc curves\n",
        "    ns_fpr, ns_tpr, _ = roc_curve(y_test, ns_probs_roc)\n",
        "    lr_fpr, lr_tpr, _ = roc_curve(y_test, lr_probs_roc)\n",
        "    \n",
        "    lr_precision, lr_recall, _ = precision_recall_curve(y_test, lr_probs_roc)\n",
        "    lr_precisions.append(lr_precision)\n",
        "    lr_recalls.append(lr_recall)\n",
        "    lr_f1_prc, lr_auc_prc = f1_score(y_test, y_hat), auc(lr_recall, lr_precision)\n",
        "    prc_aucs.append(lr_auc_prc)\n",
        "    prc_f1_scores.append(lr_f1_prc)\n",
        "    no_skill = len(y_test[y_test==1]) / len(y_test)\n",
        "    \n",
        "df_performance = pd.DataFrame({\n",
        "    'classifier': names, \n",
        "    'score': scores, \n",
        "    'accuracy': accuracy_vals, \n",
        "    'recall': recall_vals,\n",
        "    'specificity': specificity_vals,\n",
        "    'precision': precision_vals,\n",
        "    'FPR': false_positive_rates,\n",
        "    'FNR': false_negative_rates, \n",
        "    'CV-10 mean': cv_means,\n",
        "    'CV-10 std': cv_stds, \n",
        "    'No Skill ROC AUC': no_skill_aucs,\n",
        "    'Logistic ROC AUC': logistic_aucs,\n",
        "    'Precision-Recall AUC': prc_aucs,\n",
        "    'F1': prc_f1_scores\n",
        "})\n",
        "\n",
        "df_performance.describe()"
      ],
      "execution_count": 21,
      "outputs": [
        {
          "output_type": "stream",
          "text": [
            "KNeighborsClassifier(algorithm='auto', leaf_size=30, metric='minkowski',\n",
            "                     metric_params=None, n_jobs=None, n_neighbors=3, p=2,\n",
            "                     weights='uniform')\n",
            "SVC(C=0.025, break_ties=False, cache_size=200, class_weight=None, coef0=0.0,\n",
            "    decision_function_shape='ovr', degree=3, gamma='scale', kernel='linear',\n",
            "    max_iter=-1, probability=True, random_state=None, shrinking=True, tol=0.001,\n",
            "    verbose=False)\n",
            "SVC(C=0.025, break_ties=False, cache_size=200, class_weight=None, coef0=0.0,\n",
            "    decision_function_shape='ovr', degree=3, gamma=2, kernel='rbf', max_iter=-1,\n",
            "    probability=True, random_state=None, shrinking=True, tol=0.001,\n",
            "    verbose=False)\n"
          ],
          "name": "stdout"
        },
        {
          "output_type": "stream",
          "text": [
            "/usr/local/lib/python3.7/dist-packages/ipykernel_launcher.py:62: RuntimeWarning: invalid value encountered in long_scalars\n"
          ],
          "name": "stderr"
        },
        {
          "output_type": "stream",
          "text": [
            "GaussianProcessClassifier(copy_X_train=True, kernel=1**2 * RBF(length_scale=1),\n",
            "                          max_iter_predict=100, multi_class='one_vs_rest',\n",
            "                          n_jobs=None, n_restarts_optimizer=0,\n",
            "                          optimizer='fmin_l_bfgs_b', random_state=None,\n",
            "                          warm_start=False)\n",
            "DecisionTreeClassifier(ccp_alpha=0.0, class_weight=None, criterion='gini',\n",
            "                       max_depth=None, max_features=None, max_leaf_nodes=None,\n",
            "                       min_impurity_decrease=0.0, min_impurity_split=None,\n",
            "                       min_samples_leaf=1, min_samples_split=2,\n",
            "                       min_weight_fraction_leaf=0.0, presort='deprecated',\n",
            "                       random_state=None, splitter='best')\n",
            "RandomForestClassifier(bootstrap=True, ccp_alpha=0.0, class_weight=None,\n",
            "                       criterion='gini', max_depth=None, max_features='auto',\n",
            "                       max_leaf_nodes=None, max_samples=None,\n",
            "                       min_impurity_decrease=0.0, min_impurity_split=None,\n",
            "                       min_samples_leaf=1, min_samples_split=2,\n",
            "                       min_weight_fraction_leaf=0.0, n_estimators=100,\n",
            "                       n_jobs=None, oob_score=False, random_state=None,\n",
            "                       verbose=0, warm_start=False)\n",
            "MLPClassifier(activation='relu', alpha=0.025, batch_size='auto', beta_1=0.9,\n",
            "              beta_2=0.999, early_stopping=False, epsilon=1e-08,\n",
            "              hidden_layer_sizes=(100,), learning_rate='constant',\n",
            "              learning_rate_init=0.001, max_fun=15000, max_iter=1000,\n",
            "              momentum=0.9, n_iter_no_change=10, nesterovs_momentum=True,\n",
            "              power_t=0.5, random_state=None, shuffle=True, solver='adam',\n",
            "              tol=0.0001, validation_fraction=0.1, verbose=False,\n",
            "              warm_start=False)\n",
            "AdaBoostClassifier(algorithm='SAMME.R', base_estimator=None, learning_rate=1.0,\n",
            "                   n_estimators=50, random_state=None)\n",
            "GaussianNB(priors=None, var_smoothing=1e-09)\n",
            "QuadraticDiscriminantAnalysis(priors=None, reg_param=0.0,\n",
            "                              store_covariance=False, tol=0.0001)\n"
          ],
          "name": "stdout"
        },
        {
          "output_type": "execute_result",
          "data": {
            "text/html": [
              "<div>\n",
              "<style scoped>\n",
              "    .dataframe tbody tr th:only-of-type {\n",
              "        vertical-align: middle;\n",
              "    }\n",
              "\n",
              "    .dataframe tbody tr th {\n",
              "        vertical-align: top;\n",
              "    }\n",
              "\n",
              "    .dataframe thead th {\n",
              "        text-align: right;\n",
              "    }\n",
              "</style>\n",
              "<table border=\"1\" class=\"dataframe\">\n",
              "  <thead>\n",
              "    <tr style=\"text-align: right;\">\n",
              "      <th></th>\n",
              "      <th>score</th>\n",
              "      <th>accuracy</th>\n",
              "      <th>recall</th>\n",
              "      <th>specificity</th>\n",
              "      <th>precision</th>\n",
              "      <th>FPR</th>\n",
              "      <th>FNR</th>\n",
              "      <th>CV-10 mean</th>\n",
              "      <th>CV-10 std</th>\n",
              "      <th>No Skill ROC AUC</th>\n",
              "      <th>Logistic ROC AUC</th>\n",
              "      <th>Precision-Recall AUC</th>\n",
              "      <th>F1</th>\n",
              "    </tr>\n",
              "  </thead>\n",
              "  <tbody>\n",
              "    <tr>\n",
              "      <th>count</th>\n",
              "      <td>10.000000</td>\n",
              "      <td>10.000000</td>\n",
              "      <td>10.000000</td>\n",
              "      <td>10.000000</td>\n",
              "      <td>9.000000</td>\n",
              "      <td>10.000000</td>\n",
              "      <td>10.000000</td>\n",
              "      <td>10.000000</td>\n",
              "      <td>10.000000</td>\n",
              "      <td>10.0</td>\n",
              "      <td>10.000000</td>\n",
              "      <td>10.000000</td>\n",
              "      <td>10.000000</td>\n",
              "    </tr>\n",
              "    <tr>\n",
              "      <th>mean</th>\n",
              "      <td>0.648214</td>\n",
              "      <td>0.648214</td>\n",
              "      <td>0.729762</td>\n",
              "      <td>0.566667</td>\n",
              "      <td>0.650891</td>\n",
              "      <td>0.433333</td>\n",
              "      <td>0.270238</td>\n",
              "      <td>63.170232</td>\n",
              "      <td>13.961538</td>\n",
              "      <td>0.5</td>\n",
              "      <td>0.704117</td>\n",
              "      <td>0.777441</td>\n",
              "      <td>0.638462</td>\n",
              "    </tr>\n",
              "    <tr>\n",
              "      <th>std</th>\n",
              "      <td>0.101461</td>\n",
              "      <td>0.101461</td>\n",
              "      <td>0.285110</td>\n",
              "      <td>0.312672</td>\n",
              "      <td>0.086877</td>\n",
              "      <td>0.312672</td>\n",
              "      <td>0.285110</td>\n",
              "      <td>10.171304</td>\n",
              "      <td>5.242146</td>\n",
              "      <td>0.0</td>\n",
              "      <td>0.142908</td>\n",
              "      <td>0.044678</td>\n",
              "      <td>0.227936</td>\n",
              "    </tr>\n",
              "    <tr>\n",
              "      <th>min</th>\n",
              "      <td>0.500000</td>\n",
              "      <td>0.500000</td>\n",
              "      <td>0.000000</td>\n",
              "      <td>0.000000</td>\n",
              "      <td>0.500000</td>\n",
              "      <td>0.000000</td>\n",
              "      <td>0.000000</td>\n",
              "      <td>45.258467</td>\n",
              "      <td>7.814224</td>\n",
              "      <td>0.5</td>\n",
              "      <td>0.500000</td>\n",
              "      <td>0.734488</td>\n",
              "      <td>0.000000</td>\n",
              "    </tr>\n",
              "    <tr>\n",
              "      <th>25%</th>\n",
              "      <td>0.553571</td>\n",
              "      <td>0.553571</td>\n",
              "      <td>0.696429</td>\n",
              "      <td>0.577381</td>\n",
              "      <td>0.651685</td>\n",
              "      <td>0.312500</td>\n",
              "      <td>0.154762</td>\n",
              "      <td>61.624332</td>\n",
              "      <td>9.819148</td>\n",
              "      <td>0.5</td>\n",
              "      <td>0.571854</td>\n",
              "      <td>0.750000</td>\n",
              "      <td>0.667630</td>\n",
              "    </tr>\n",
              "    <tr>\n",
              "      <th>50%</th>\n",
              "      <td>0.693452</td>\n",
              "      <td>0.693452</td>\n",
              "      <td>0.797619</td>\n",
              "      <td>0.648810</td>\n",
              "      <td>0.689655</td>\n",
              "      <td>0.351190</td>\n",
              "      <td>0.202381</td>\n",
              "      <td>64.135472</td>\n",
              "      <td>12.638368</td>\n",
              "      <td>0.5</td>\n",
              "      <td>0.763712</td>\n",
              "      <td>0.757393</td>\n",
              "      <td>0.688227</td>\n",
              "    </tr>\n",
              "    <tr>\n",
              "      <th>75%</th>\n",
              "      <td>0.720238</td>\n",
              "      <td>0.720238</td>\n",
              "      <td>0.845238</td>\n",
              "      <td>0.687500</td>\n",
              "      <td>0.702128</td>\n",
              "      <td>0.422619</td>\n",
              "      <td>0.303571</td>\n",
              "      <td>70.363191</td>\n",
              "      <td>17.162270</td>\n",
              "      <td>0.5</td>\n",
              "      <td>0.810551</td>\n",
              "      <td>0.800622</td>\n",
              "      <td>0.741076</td>\n",
              "    </tr>\n",
              "    <tr>\n",
              "      <th>max</th>\n",
              "      <td>0.750000</td>\n",
              "      <td>0.750000</td>\n",
              "      <td>1.000000</td>\n",
              "      <td>1.000000</td>\n",
              "      <td>0.728571</td>\n",
              "      <td>1.000000</td>\n",
              "      <td>1.000000</td>\n",
              "      <td>74.099822</td>\n",
              "      <td>21.942995</td>\n",
              "      <td>0.5</td>\n",
              "      <td>0.863024</td>\n",
              "      <td>0.873716</td>\n",
              "      <td>0.764045</td>\n",
              "    </tr>\n",
              "  </tbody>\n",
              "</table>\n",
              "</div>"
            ],
            "text/plain": [
              "           score   accuracy  ...  Precision-Recall AUC         F1\n",
              "count  10.000000  10.000000  ...             10.000000  10.000000\n",
              "mean    0.648214   0.648214  ...              0.777441   0.638462\n",
              "std     0.101461   0.101461  ...              0.044678   0.227936\n",
              "min     0.500000   0.500000  ...              0.734488   0.000000\n",
              "25%     0.553571   0.553571  ...              0.750000   0.667630\n",
              "50%     0.693452   0.693452  ...              0.757393   0.688227\n",
              "75%     0.720238   0.720238  ...              0.800622   0.741076\n",
              "max     0.750000   0.750000  ...              0.873716   0.764045\n",
              "\n",
              "[8 rows x 13 columns]"
            ]
          },
          "metadata": {
            "tags": []
          },
          "execution_count": 21
        }
      ]
    },
    {
      "cell_type": "markdown",
      "metadata": {
        "id": "DxvfykdoR_Rv"
      },
      "source": [
        "## Dimensionality Reduction: PCA"
      ]
    },
    {
      "cell_type": "code",
      "metadata": {
        "id": "P4wEcm_uRRff"
      },
      "source": [
        "pca = PCA(n_components=2, svd_solver='full')\n",
        "features_pca = pca.fit_transform(X)"
      ],
      "execution_count": 23,
      "outputs": []
    },
    {
      "cell_type": "code",
      "metadata": {
        "colab": {
          "base_uri": "https://localhost:8080/",
          "height": 1000
        },
        "id": "ktFhotvXSB4N",
        "outputId": "24e4fcb1-b785-43e5-ab07-be1418811f11"
      },
      "source": [
        "pca_rf_clf = run_random_forest(features_pca, labels)\n",
        "pca_svm_clf = run_svm(features_pca, labels)\n",
        "pca_dt_clf = run_decision_tree(features_pca, labels)\n",
        "pca_nb_clf = run_nb(features_pca, labels)\n",
        "pca_lda_clf = run_lda(features_pca, labels)\n",
        "pca_lr_clf = run_logistic_regression(features_pca, labels)"
      ],
      "execution_count": 24,
      "outputs": [
        {
          "output_type": "stream",
          "text": [
            "[[29 18]\n",
            " [15 39]]\n",
            "Accuracy of Random Forest : 0.6732673267326733\n",
            "              precision    recall  f1-score   support\n",
            "\n",
            "         0.0       0.66      0.62      0.64        47\n",
            "         1.0       0.68      0.72      0.70        54\n",
            "\n",
            "    accuracy                           0.67       101\n",
            "   macro avg       0.67      0.67      0.67       101\n",
            "weighted avg       0.67      0.67      0.67       101\n",
            "\n",
            "[[ 8 39]\n",
            " [ 9 45]]\n",
            "Accuracy of SVM : 0.5247524752475248\n",
            "              precision    recall  f1-score   support\n",
            "\n",
            "         0.0       0.47      0.17      0.25        47\n",
            "         1.0       0.54      0.83      0.65        54\n",
            "\n",
            "    accuracy                           0.52       101\n",
            "   macro avg       0.50      0.50      0.45       101\n",
            "weighted avg       0.51      0.52      0.47       101\n",
            "\n",
            "[[23 24]\n",
            " [22 32]]\n",
            "Accuracy of Decision Tree : 0.5445544554455446\n",
            "              precision    recall  f1-score   support\n",
            "\n",
            "         0.0       0.51      0.49      0.50        47\n",
            "         1.0       0.57      0.59      0.58        54\n",
            "\n",
            "    accuracy                           0.54       101\n",
            "   macro avg       0.54      0.54      0.54       101\n",
            "weighted avg       0.54      0.54      0.54       101\n",
            "\n",
            "[[16 31]\n",
            " [ 7 47]]\n",
            "Accuracy of Naive Bayes : 0.6237623762376238\n",
            "              precision    recall  f1-score   support\n",
            "\n",
            "         0.0       0.70      0.34      0.46        47\n",
            "         1.0       0.60      0.87      0.71        54\n",
            "\n",
            "    accuracy                           0.62       101\n",
            "   macro avg       0.65      0.61      0.58       101\n",
            "weighted avg       0.65      0.62      0.59       101\n",
            "\n",
            "[[16 31]\n",
            " [18 36]]\n",
            "Accuracy of LDA : 0.5148514851485149\n",
            "              precision    recall  f1-score   support\n",
            "\n",
            "         0.0       0.47      0.34      0.40        47\n",
            "         1.0       0.54      0.67      0.60        54\n",
            "\n",
            "    accuracy                           0.51       101\n",
            "   macro avg       0.50      0.50      0.50       101\n",
            "weighted avg       0.51      0.51      0.50       101\n",
            "\n",
            "[[14 33]\n",
            " [ 9 45]]\n",
            "Accuracy of Logistic Regression : 0.5841584158415841\n",
            "              precision    recall  f1-score   support\n",
            "\n",
            "         0.0       0.61      0.30      0.40        47\n",
            "         1.0       0.58      0.83      0.68        54\n",
            "\n",
            "    accuracy                           0.58       101\n",
            "   macro avg       0.59      0.57      0.54       101\n",
            "weighted avg       0.59      0.58      0.55       101\n",
            "\n"
          ],
          "name": "stdout"
        },
        {
          "output_type": "display_data",
          "data": {
            "image/png": "[encoded data removed]",
            "text/plain": [
              "<Figure size 432x288 with 2 Axes>"
            ]
          },
          "metadata": {
            "tags": [],
            "needs_background": "light"
          }
        },
        {
          "output_type": "display_data",
          "data": {
            "image/png": "[encoded data removed]",
            "text/plain": [
              "<Figure size 432x288 with 2 Axes>"
            ]
          },
          "metadata": {
            "tags": [],
            "needs_background": "light"
          }
        },
        {
          "output_type": "display_data",
          "data": {
            "image/png": "[encoded data removed]",
            "text/plain": [
              "<Figure size 432x288 with 2 Axes>"
            ]
          },
          "metadata": {
            "tags": [],
            "needs_background": "light"
          }
        },
        {
          "output_type": "display_data",
          "data": {
            "image/png": "[encoded data removed]",
            "text/plain": [
              "<Figure size 432x288 with 2 Axes>"
            ]
          },
          "metadata": {
            "tags": [],
            "needs_background": "light"
          }
        },
        {
          "output_type": "display_data",
          "data": {
            "image/png": "[encoded data removed]",
            "text/plain": [
              "<Figure size 432x288 with 2 Axes>"
            ]
          },
          "metadata": {
            "tags": [],
            "needs_background": "light"
          }
        },
        {
          "output_type": "display_data",
          "data": {
            "image/png": "[encoded data removed]",
            "text/plain": [
              "<Figure size 432x288 with 2 Axes>"
            ]
          },
          "metadata": {
            "tags": [],
            "needs_background": "light"
          }
        }
      ]
    },
    {
      "cell_type": "markdown",
      "metadata": {
        "id": "sECqGTp3mp2D"
      },
      "source": [
        "Running the classifier on PCA-reduced features doesn't work as well"
      ]
    },
    {
      "cell_type": "markdown",
      "metadata": {
        "id": "EZVKNVqhm2Wt"
      },
      "source": [
        "# Feature Selection\n",
        "\n",
        "Here we run a few feature selection techniques to see which features contribute most"
      ]
    },
    {
      "cell_type": "code",
      "metadata": {
        "id": "we6Uc_Au4pZm"
      },
      "source": [
        "import pandas as pd\n",
        "import numpy as np\n",
        "\n",
        "features_df = pd.read_csv(\"features_df.csv\")\n",
        "features = features_df.drop(['Unnamed: 0', 'Engaged'], axis=1)\n",
        "labels = features_df['Engaged']\n",
        "X = features\n",
        "y = labels"
      ],
      "execution_count": 7,
      "outputs": []
    },
    {
      "cell_type": "code",
      "metadata": {
        "colab": {
          "base_uri": "https://localhost:8080/"
        },
        "id": "SpFlol7NbNxr",
        "outputId": "1e2387cc-48d3-4c6c-e81d-fb55255e2e6b"
      },
      "source": [
        "from sklearn.feature_selection import SelectKBest\n",
        "from sklearn.feature_selection import chi2\n",
        "from sklearn.preprocessing import MinMaxScaler\n",
        "\n",
        "# apply SelectKBest class to extract top 10 best features\n",
        "chi_selector = SelectKBest(score_func=chi2, k=10)\n",
        "\n",
        "X_norm = MinMaxScaler().fit_transform(X)\n",
        "fit_norm = chi_selector.fit(X_norm,y)\n",
        "dfcolumns = pd.DataFrame(X.columns)\n",
        "dfscores_norm = pd.DataFrame(fit_norm.scores_)\n",
        "chi_support = chi_selector.get_support()\n",
        "\n",
        "# concat two dataframes for better visualization \n",
        "featureScores = pd.concat([dfcolumns, dfscores_norm],axis=1)\n",
        "featureScores.columns = ['Features', 'Normalized Score']  # naming the dataframe columns\n",
        "print(featureScores.nlargest(10, 'Normalized Score'))  # print 10 best features'''"
      ],
      "execution_count": 26,
      "outputs": [
        {
          "output_type": "stream",
          "text": [
            "        Features  Normalized Score\n",
            "26      rms mean         11.451928\n",
            "27       rms std         11.010083\n",
            "42       mel std         10.668672\n",
            "41      mel mean         10.042008\n",
            "16  mfccs 8 mean          5.710040\n",
            "0   mfccs 0 mean          5.499366\n",
            "18  mfccs 9 mean          5.338274\n",
            "15   mfccs 7 std          4.978362\n",
            "21  mfccs 10 std          3.591974\n",
            "17   mfccs 8 std          3.434053\n"
          ],
          "name": "stdout"
        }
      ]
    },
    {
      "cell_type": "code",
      "metadata": {
        "colab": {
          "base_uri": "https://localhost:8080/",
          "height": 265
        },
        "id": "5ZbMrcSWbQQo",
        "outputId": "dd6c7e60-8e4d-4c92-cf31-da9f2858c2d9"
      },
      "source": [
        "import pandas as pd\n",
        "import numpy as np\n",
        "from sklearn.ensemble import ExtraTreesClassifier\n",
        "import matplotlib.pyplot as plt\n",
        "\n",
        "model = ExtraTreesClassifier()\n",
        "model.fit(X, y)\n",
        "\n",
        "# plot feature importances\n",
        "importances = pd.Series(model.feature_importances_, index=X.columns)\n",
        "importances.nlargest(20).plot(kind='barh')\n",
        "plt.show()"
      ],
      "execution_count": 27,
      "outputs": [
        {
          "output_type": "display_data",
          "data": {
            "image/png": "[encoded data removed]",
            "text/plain": [
              "<Figure size 432x288 with 1 Axes>"
            ]
          },
          "metadata": {
            "tags": [],
            "needs_background": "light"
          }
        }
      ]
    },
    {
      "cell_type": "code",
      "metadata": {
        "colab": {
          "base_uri": "https://localhost:8080/"
        },
        "id": "tSFi4OKIbXBp",
        "outputId": "bd51db5f-b720-4bb1-957e-1161add5ca49"
      },
      "source": [
        "from sklearn.feature_selection import RFE\n",
        "from sklearn.linear_model import LogisticRegression\n",
        "\n",
        "rfe_selector = RFE(estimator=LogisticRegression(), n_features_to_select=10, step=10, verbose=5)\n",
        "rfe_selector.fit(X, y)\n",
        "rfe_support = rfe_selector.get_support()\n",
        "rfe_feature = X.loc[:,rfe_support].columns.tolist()\n",
        "\n",
        "featureScores = pd.DataFrame({'feature': rfe_feature, 'score': rfe_selector.estimator_.coef_[0]})\n",
        "print(featureScores)"
      ],
      "execution_count": 28,
      "outputs": [
        {
          "output_type": "stream",
          "text": [
            "Fitting estimator with 68 features.\n",
            "Fitting estimator with 58 features.\n",
            "Fitting estimator with 48 features.\n",
            "Fitting estimator with 38 features.\n",
            "Fitting estimator with 28 features.\n"
          ],
          "name": "stdout"
        },
        {
          "output_type": "stream",
          "text": [
            "/usr/local/lib/python3.7/dist-packages/sklearn/linear_model/_logistic.py:940: ConvergenceWarning: lbfgs failed to converge (status=1):\n",
            "STOP: TOTAL NO. of ITERATIONS REACHED LIMIT.\n",
            "\n",
            "Increase the number of iterations (max_iter) or scale the data as shown in:\n",
            "    https://scikit-learn.org/stable/modules/preprocessing.html\n",
            "Please also refer to the documentation for alternative solver options:\n",
            "    https://scikit-learn.org/stable/modules/linear_model.html#logistic-regression\n",
            "  extra_warning_msg=_LOGISTIC_SOLVER_CONVERGENCE_MSG)\n",
            "/usr/local/lib/python3.7/dist-packages/sklearn/linear_model/_logistic.py:940: ConvergenceWarning: lbfgs failed to converge (status=1):\n",
            "STOP: TOTAL NO. of ITERATIONS REACHED LIMIT.\n",
            "\n",
            "Increase the number of iterations (max_iter) or scale the data as shown in:\n",
            "    https://scikit-learn.org/stable/modules/preprocessing.html\n",
            "Please also refer to the documentation for alternative solver options:\n",
            "    https://scikit-learn.org/stable/modules/linear_model.html#logistic-regression\n",
            "  extra_warning_msg=_LOGISTIC_SOLVER_CONVERGENCE_MSG)\n",
            "/usr/local/lib/python3.7/dist-packages/sklearn/linear_model/_logistic.py:940: ConvergenceWarning: lbfgs failed to converge (status=1):\n",
            "STOP: TOTAL NO. of ITERATIONS REACHED LIMIT.\n",
            "\n",
            "Increase the number of iterations (max_iter) or scale the data as shown in:\n",
            "    https://scikit-learn.org/stable/modules/preprocessing.html\n",
            "Please also refer to the documentation for alternative solver options:\n",
            "    https://scikit-learn.org/stable/modules/linear_model.html#logistic-regression\n",
            "  extra_warning_msg=_LOGISTIC_SOLVER_CONVERGENCE_MSG)\n",
            "/usr/local/lib/python3.7/dist-packages/sklearn/linear_model/_logistic.py:940: ConvergenceWarning: lbfgs failed to converge (status=1):\n",
            "STOP: TOTAL NO. of ITERATIONS REACHED LIMIT.\n",
            "\n",
            "Increase the number of iterations (max_iter) or scale the data as shown in:\n",
            "    https://scikit-learn.org/stable/modules/preprocessing.html\n",
            "Please also refer to the documentation for alternative solver options:\n",
            "    https://scikit-learn.org/stable/modules/linear_model.html#logistic-regression\n",
            "  extra_warning_msg=_LOGISTIC_SOLVER_CONVERGENCE_MSG)\n",
            "/usr/local/lib/python3.7/dist-packages/sklearn/linear_model/_logistic.py:940: ConvergenceWarning: lbfgs failed to converge (status=1):\n",
            "STOP: TOTAL NO. of ITERATIONS REACHED LIMIT.\n",
            "\n",
            "Increase the number of iterations (max_iter) or scale the data as shown in:\n",
            "    https://scikit-learn.org/stable/modules/preprocessing.html\n",
            "Please also refer to the documentation for alternative solver options:\n",
            "    https://scikit-learn.org/stable/modules/linear_model.html#logistic-regression\n",
            "  extra_warning_msg=_LOGISTIC_SOLVER_CONVERGENCE_MSG)\n"
          ],
          "name": "stderr"
        },
        {
          "output_type": "stream",
          "text": [
            "Fitting estimator with 18 features.\n",
            "         feature     score\n",
            "0    mfccs 4 std  0.105749\n",
            "1    mfccs 5 std -0.020928\n",
            "2    mfccs 7 std  0.089139\n",
            "3    mfccs 8 std  0.087846\n",
            "4   mfccs 9 mean  0.085311\n",
            "5   mfccs 10 std  0.106423\n",
            "6   mfccs 11 std -0.106058\n",
            "7  mfccs 12 mean  0.099295\n",
            "8       rms skew -0.373043\n",
            "9      cent skew  0.387617\n"
          ],
          "name": "stdout"
        },
        {
          "output_type": "stream",
          "text": [
            "/usr/local/lib/python3.7/dist-packages/sklearn/linear_model/_logistic.py:940: ConvergenceWarning: lbfgs failed to converge (status=1):\n",
            "STOP: TOTAL NO. of ITERATIONS REACHED LIMIT.\n",
            "\n",
            "Increase the number of iterations (max_iter) or scale the data as shown in:\n",
            "    https://scikit-learn.org/stable/modules/preprocessing.html\n",
            "Please also refer to the documentation for alternative solver options:\n",
            "    https://scikit-learn.org/stable/modules/linear_model.html#logistic-regression\n",
            "  extra_warning_msg=_LOGISTIC_SOLVER_CONVERGENCE_MSG)\n",
            "/usr/local/lib/python3.7/dist-packages/sklearn/linear_model/_logistic.py:940: ConvergenceWarning: lbfgs failed to converge (status=1):\n",
            "STOP: TOTAL NO. of ITERATIONS REACHED LIMIT.\n",
            "\n",
            "Increase the number of iterations (max_iter) or scale the data as shown in:\n",
            "    https://scikit-learn.org/stable/modules/preprocessing.html\n",
            "Please also refer to the documentation for alternative solver options:\n",
            "    https://scikit-learn.org/stable/modules/linear_model.html#logistic-regression\n",
            "  extra_warning_msg=_LOGISTIC_SOLVER_CONVERGENCE_MSG)\n"
          ],
          "name": "stderr"
        }
      ]
    },
    {
      "cell_type": "code",
      "metadata": {
        "colab": {
          "base_uri": "https://localhost:8080/"
        },
        "id": "3Gxt0970bZ1w",
        "outputId": "4011a62d-e369-49c9-b84d-3dc2ae800c7c"
      },
      "source": [
        "from sklearn.feature_selection import SelectFromModel\n",
        "from sklearn.linear_model import LogisticRegression\n",
        "\n",
        "lr_selector = SelectFromModel(estimator=LogisticRegression(penalty='l2', solver='newton-cg'), max_features=10)\n",
        "lr_selector.fit(X, y)\n",
        "lr_support = lr_selector.get_support()\n",
        "lr_feature = X.loc[:,lr_support].columns.tolist()\n",
        "\n",
        "allFeatureScores = pd.DataFrame({'feature': X.columns, 'score': lr_selector.estimator_.coef_[0]})\n",
        "featureScores = allFeatureScores.loc[allFeatureScores.feature.isin(lr_feature)]\n",
        "\n",
        "print(featureScores)"
      ],
      "execution_count": 29,
      "outputs": [
        {
          "output_type": "stream",
          "text": [
            "           feature     score\n",
            "22   mfccs 11 mean -0.273078\n",
            "28        rms skew -0.619453\n",
            "34       cent skew  0.379641\n",
            "44   chroma 0 mean  0.437034\n",
            "45    chroma 0 std  0.541022\n",
            "46   chroma 1 mean -0.358017\n",
            "51    chroma 3 std -0.589494\n",
            "53    chroma 4 std -0.316170\n",
            "55    chroma 5 std  0.891441\n",
            "64  chroma 10 mean  0.304131\n"
          ],
          "name": "stdout"
        }
      ]
    },
    {
      "cell_type": "code",
      "metadata": {
        "colab": {
          "base_uri": "https://localhost:8080/",
          "height": 265
        },
        "id": "wGgc1q6Fbbfy",
        "outputId": "339d8d36-ba6a-420e-e3a0-49176ead7d71"
      },
      "source": [
        "from sklearn.feature_selection import SelectFromModel\n",
        "from sklearn.ensemble import RandomForestClassifier\n",
        "import matplotlib.pyplot as plt\n",
        "\n",
        "rf_selector = SelectFromModel(RandomForestClassifier(n_estimators=100), max_features=10)\n",
        "rf_selector.fit(X, y)\n",
        "rf_support = rf_selector.get_support()\n",
        "rf_feature = X.loc[:,rf_support].columns.tolist()\n",
        "#print(rf_feature)\n",
        "\n",
        "model = RandomForestClassifier()\n",
        "model.fit(X, y)\n",
        "#print(model.feature_importances_)\n",
        "\n",
        "# plot feature importances\n",
        "importances = pd.Series(model.feature_importances_, index=X.columns)\n",
        "importances.nlargest(10).plot(kind='barh')\n",
        "plt.show()"
      ],
      "execution_count": 30,
      "outputs": [
        {
          "output_type": "display_data",
          "data": {
            "image/png": "[encoded data removed]",
            "text/plain": [
              "<Figure size 432x288 with 1 Axes>"
            ]
          },
          "metadata": {
            "tags": [],
            "needs_background": "light"
          }
        }
      ]
    },
    {
      "cell_type": "code",
      "metadata": {
        "colab": {
          "base_uri": "https://localhost:8080/"
        },
        "id": "oKgTrdpBbS8e",
        "outputId": "3f8f37dd-1091-452d-f60c-f2fb6533117a"
      },
      "source": [
        "num_feats = 10 # number of features to select\n",
        "pearson_corrs = []\n",
        "feature_names = X.columns.tolist()\n",
        "\n",
        "# calculate the correlation of each feature with target\n",
        "for f in feature_names:\n",
        "    pearson_corr = np.corrcoef(X[f], y)[0, 1]\n",
        "    pearson_corrs.append(pearson_corr)\n",
        "\n",
        "# replace NaN with 0\n",
        "pearson_corrs = [0 if np.isnan(i) else i for i in pearson_corrs]\n",
        "\n",
        "# feature name\n",
        "selected_features = X.iloc[:,np.argsort(np.abs(pearson_corrs))[-num_feats:]].columns.tolist()\n",
        "\n",
        "# feature support\n",
        "cor_support = [True if i in selected_features else False for i in feature_names]\n",
        "\n",
        "# feature selection\n",
        "allFeatureScores = pd.DataFrame({'feature': X.columns, 'score': pearson_corrs})\n",
        "featureScores = allFeatureScores.loc[allFeatureScores.feature.isin(selected_features)]\n",
        "\n",
        "print(featureScores)"
      ],
      "execution_count": 31,
      "outputs": [
        {
          "output_type": "stream",
          "text": [
            "          feature     score\n",
            "0    mfccs 0 mean  0.473975\n",
            "4    mfccs 2 mean -0.381221\n",
            "15    mfccs 7 std  0.432659\n",
            "16   mfccs 8 mean  0.431784\n",
            "17    mfccs 8 std  0.390166\n",
            "18   mfccs 9 mean  0.452227\n",
            "21   mfccs 10 std  0.392647\n",
            "24  mfccs 12 mean  0.374142\n",
            "26       rms mean  0.439127\n",
            "27        rms std  0.382410\n"
          ],
          "name": "stdout"
        }
      ]
    },
    {
      "cell_type": "code",
      "metadata": {
        "colab": {
          "base_uri": "https://localhost:8080/",
          "height": 283
        },
        "id": "v0ZUMx6c5jFu",
        "outputId": "45e60be2-d616-4630-82fc-34ab32e3c9e3"
      },
      "source": [
        "from sklearn.feature_selection import SelectFromModel\n",
        "from lightgbm import LGBMClassifier\n",
        "\n",
        "# hm... why is everything 0?\n",
        "X.columns = [\"\".join (c if c.isalnum() else \"_\" for c in str(x)) for x in X.columns]\n",
        "lgbc = LGBMClassifier(n_estimators=500, learning_rate=0.05, num_leaves=32, colsample_bytree=0.2,\n",
        "            reg_alpha=3, reg_lambda=1, min_split_gain=0.01, min_child_weight=40)\n",
        "lgbc.fit(X, y)\n",
        "\n",
        "lgb_selector = SelectFromModel(lgbc, max_features=10)\n",
        "lgb_selector.fit(X, y)\n",
        "lgb_support = lgb_selector.get_support()\n",
        "lgb_feature = X.loc[:,lgb_support].columns.tolist()\n",
        "\n",
        "importances = pd.Series(lgbc.feature_importances_, index=X.columns)\n",
        "importances.nlargest(10).plot(kind='barh')"
      ],
      "execution_count": 32,
      "outputs": [
        {
          "output_type": "execute_result",
          "data": {
            "text/plain": [
              "<matplotlib.axes._subplots.AxesSubplot at 0x7fbfdb3d5750>"
            ]
          },
          "metadata": {
            "tags": []
          },
          "execution_count": 32
        },
        {
          "output_type": "display_data",
          "data": {
            "image/png": "[encoded data removed]",
            "text/plain": [
              "<Figure size 432x288 with 1 Axes>"
            ]
          },
          "metadata": {
            "tags": [],
            "needs_background": "light"
          }
        }
      ]
    },
    {
      "cell_type": "code",
      "metadata": {
        "colab": {
          "base_uri": "https://localhost:8080/",
          "height": 530
        },
        "id": "cTw8Fkfm5qtm",
        "outputId": "2e4a2e7f-e261-4c24-8ded-f41c3f9dc07a"
      },
      "source": [
        "from sklearn import svm\n",
        "import matplotlib.pyplot as plt\n",
        "\n",
        "def feature_plot(classifier, feature_names, top_features=4):\n",
        "    coef = classifier.coef_.ravel()\n",
        "    top_positive_coefficients = np.argsort(coef)[-top_features:]\n",
        "    top_negative_coefficients = np.argsort(coef)[:top_features]\n",
        "    top_coefficients = np.hstack([top_negative_coefficients, top_positive_coefficients])\n",
        "    plt.figure(figsize=(18, 7))\n",
        "    colors = ['#000000' if c < 0 else '#ebba34' for c in coef[top_coefficients]]\n",
        "    plt.bar(np.arange(2 * top_features), coef[top_coefficients], color=colors)\n",
        "    feature_names = np.array(feature_names)\n",
        "    plt.xticks(np.arange(1 + 2 * top_features), feature_names[top_coefficients], rotation=90, ha='right')\n",
        "    plt.show()\n",
        "\n",
        "trainedsvm = svm.LinearSVC().fit(X, y)\n",
        "feature_plot(\n",
        "    trainedsvm,\n",
        "    features_df.drop(['Unnamed: 0', 'Engaged'], axis = 1).columns.values, \n",
        "    10\n",
        ")"
      ],
      "execution_count": 33,
      "outputs": [
        {
          "output_type": "stream",
          "text": [
            "/usr/local/lib/python3.7/dist-packages/sklearn/svm/_base.py:947: ConvergenceWarning: Liblinear failed to converge, increase the number of iterations.\n",
            "  \"the number of iterations.\", ConvergenceWarning)\n"
          ],
          "name": "stderr"
        },
        {
          "output_type": "display_data",
          "data": {
            "image/png": "[encoded data removed]",
            "text/plain": [
              "<Figure size 1296x504 with 1 Axes>"
            ]
          },
          "metadata": {
            "tags": [],
            "needs_background": "light"
          }
        }
      ]
    },
    {
      "cell_type": "code",
      "metadata": {
        "colab": {
          "base_uri": "https://localhost:8080/",
          "height": 662
        },
        "id": "2BjWCXrMa4-d",
        "outputId": "acf00915-28b0-40fe-f47c-893af310f81f"
      },
      "source": [
        "num_feats = 10\n",
        "# put all selection together\n",
        "feature_selection_df = pd.DataFrame(\n",
        "    {'Feature': X.columns, \n",
        "     'Pearson': cor_support, \n",
        "     'Chi-2': chi_support, \n",
        "     'RFE': rfe_support, \n",
        "     'Logistics': lr_support,\n",
        "     'Random Forest': rf_support, \n",
        "     'LightGBM': lgb_support\n",
        "    })\n",
        "\n",
        "# count the selected times for each feature\n",
        "feature_selection_df['Count'] = np.sum(feature_selection_df, axis=1)\n",
        "\n",
        "# display\n",
        "feature_selection_df = feature_selection_df.sort_values(['Count', 'Feature'], ascending=False)\n",
        "feature_selection_df.index = range(1, len(feature_selection_df) + 1)\n",
        "feature_selection_df.head(20)"
      ],
      "execution_count": 34,
      "outputs": [
        {
          "output_type": "execute_result",
          "data": {
            "text/html": [
              "<div>\n",
              "<style scoped>\n",
              "    .dataframe tbody tr th:only-of-type {\n",
              "        vertical-align: middle;\n",
              "    }\n",
              "\n",
              "    .dataframe tbody tr th {\n",
              "        vertical-align: top;\n",
              "    }\n",
              "\n",
              "    .dataframe thead th {\n",
              "        text-align: right;\n",
              "    }\n",
              "</style>\n",
              "<table border=\"1\" class=\"dataframe\">\n",
              "  <thead>\n",
              "    <tr style=\"text-align: right;\">\n",
              "      <th></th>\n",
              "      <th>Feature</th>\n",
              "      <th>Pearson</th>\n",
              "      <th>Chi-2</th>\n",
              "      <th>RFE</th>\n",
              "      <th>Logistics</th>\n",
              "      <th>Random Forest</th>\n",
              "      <th>LightGBM</th>\n",
              "      <th>Count</th>\n",
              "    </tr>\n",
              "  </thead>\n",
              "  <tbody>\n",
              "    <tr>\n",
              "      <th>1</th>\n",
              "      <td>mfccs_9_mean</td>\n",
              "      <td>True</td>\n",
              "      <td>True</td>\n",
              "      <td>True</td>\n",
              "      <td>False</td>\n",
              "      <td>True</td>\n",
              "      <td>True</td>\n",
              "      <td>5</td>\n",
              "    </tr>\n",
              "    <tr>\n",
              "      <th>2</th>\n",
              "      <td>rms_mean</td>\n",
              "      <td>True</td>\n",
              "      <td>True</td>\n",
              "      <td>False</td>\n",
              "      <td>False</td>\n",
              "      <td>True</td>\n",
              "      <td>True</td>\n",
              "      <td>4</td>\n",
              "    </tr>\n",
              "    <tr>\n",
              "      <th>3</th>\n",
              "      <td>mfccs_8_std</td>\n",
              "      <td>True</td>\n",
              "      <td>True</td>\n",
              "      <td>True</td>\n",
              "      <td>False</td>\n",
              "      <td>True</td>\n",
              "      <td>False</td>\n",
              "      <td>4</td>\n",
              "    </tr>\n",
              "    <tr>\n",
              "      <th>4</th>\n",
              "      <td>mfccs_7_std</td>\n",
              "      <td>True</td>\n",
              "      <td>True</td>\n",
              "      <td>True</td>\n",
              "      <td>False</td>\n",
              "      <td>True</td>\n",
              "      <td>False</td>\n",
              "      <td>4</td>\n",
              "    </tr>\n",
              "    <tr>\n",
              "      <th>5</th>\n",
              "      <td>mfccs_10_std</td>\n",
              "      <td>True</td>\n",
              "      <td>True</td>\n",
              "      <td>True</td>\n",
              "      <td>False</td>\n",
              "      <td>True</td>\n",
              "      <td>False</td>\n",
              "      <td>4</td>\n",
              "    </tr>\n",
              "    <tr>\n",
              "      <th>6</th>\n",
              "      <td>mfccs_0_mean</td>\n",
              "      <td>True</td>\n",
              "      <td>True</td>\n",
              "      <td>False</td>\n",
              "      <td>False</td>\n",
              "      <td>True</td>\n",
              "      <td>True</td>\n",
              "      <td>4</td>\n",
              "    </tr>\n",
              "    <tr>\n",
              "      <th>7</th>\n",
              "      <td>rms_std</td>\n",
              "      <td>True</td>\n",
              "      <td>True</td>\n",
              "      <td>False</td>\n",
              "      <td>False</td>\n",
              "      <td>False</td>\n",
              "      <td>True</td>\n",
              "      <td>3</td>\n",
              "    </tr>\n",
              "    <tr>\n",
              "      <th>8</th>\n",
              "      <td>mfccs_8_mean</td>\n",
              "      <td>True</td>\n",
              "      <td>True</td>\n",
              "      <td>False</td>\n",
              "      <td>False</td>\n",
              "      <td>True</td>\n",
              "      <td>False</td>\n",
              "      <td>3</td>\n",
              "    </tr>\n",
              "    <tr>\n",
              "      <th>9</th>\n",
              "      <td>mfccs_12_mean</td>\n",
              "      <td>True</td>\n",
              "      <td>False</td>\n",
              "      <td>True</td>\n",
              "      <td>False</td>\n",
              "      <td>False</td>\n",
              "      <td>True</td>\n",
              "      <td>3</td>\n",
              "    </tr>\n",
              "    <tr>\n",
              "      <th>10</th>\n",
              "      <td>mel_mean</td>\n",
              "      <td>False</td>\n",
              "      <td>True</td>\n",
              "      <td>False</td>\n",
              "      <td>False</td>\n",
              "      <td>True</td>\n",
              "      <td>True</td>\n",
              "      <td>3</td>\n",
              "    </tr>\n",
              "    <tr>\n",
              "      <th>11</th>\n",
              "      <td>rms_skew</td>\n",
              "      <td>False</td>\n",
              "      <td>False</td>\n",
              "      <td>True</td>\n",
              "      <td>True</td>\n",
              "      <td>False</td>\n",
              "      <td>False</td>\n",
              "      <td>2</td>\n",
              "    </tr>\n",
              "    <tr>\n",
              "      <th>12</th>\n",
              "      <td>mfccs_2_mean</td>\n",
              "      <td>True</td>\n",
              "      <td>False</td>\n",
              "      <td>False</td>\n",
              "      <td>False</td>\n",
              "      <td>False</td>\n",
              "      <td>True</td>\n",
              "      <td>2</td>\n",
              "    </tr>\n",
              "    <tr>\n",
              "      <th>13</th>\n",
              "      <td>mfccs_1_mean</td>\n",
              "      <td>False</td>\n",
              "      <td>False</td>\n",
              "      <td>False</td>\n",
              "      <td>False</td>\n",
              "      <td>True</td>\n",
              "      <td>True</td>\n",
              "      <td>2</td>\n",
              "    </tr>\n",
              "    <tr>\n",
              "      <th>14</th>\n",
              "      <td>mfccs_10_mean</td>\n",
              "      <td>False</td>\n",
              "      <td>False</td>\n",
              "      <td>False</td>\n",
              "      <td>False</td>\n",
              "      <td>True</td>\n",
              "      <td>True</td>\n",
              "      <td>2</td>\n",
              "    </tr>\n",
              "    <tr>\n",
              "      <th>15</th>\n",
              "      <td>mel_std</td>\n",
              "      <td>False</td>\n",
              "      <td>True</td>\n",
              "      <td>False</td>\n",
              "      <td>False</td>\n",
              "      <td>False</td>\n",
              "      <td>True</td>\n",
              "      <td>2</td>\n",
              "    </tr>\n",
              "    <tr>\n",
              "      <th>16</th>\n",
              "      <td>cent_skew</td>\n",
              "      <td>False</td>\n",
              "      <td>False</td>\n",
              "      <td>True</td>\n",
              "      <td>True</td>\n",
              "      <td>False</td>\n",
              "      <td>False</td>\n",
              "      <td>2</td>\n",
              "    </tr>\n",
              "    <tr>\n",
              "      <th>17</th>\n",
              "      <td>mfccs_5_std</td>\n",
              "      <td>False</td>\n",
              "      <td>False</td>\n",
              "      <td>True</td>\n",
              "      <td>False</td>\n",
              "      <td>False</td>\n",
              "      <td>False</td>\n",
              "      <td>1</td>\n",
              "    </tr>\n",
              "    <tr>\n",
              "      <th>18</th>\n",
              "      <td>mfccs_4_std</td>\n",
              "      <td>False</td>\n",
              "      <td>False</td>\n",
              "      <td>True</td>\n",
              "      <td>False</td>\n",
              "      <td>False</td>\n",
              "      <td>False</td>\n",
              "      <td>1</td>\n",
              "    </tr>\n",
              "    <tr>\n",
              "      <th>19</th>\n",
              "      <td>mfccs_11_std</td>\n",
              "      <td>False</td>\n",
              "      <td>False</td>\n",
              "      <td>True</td>\n",
              "      <td>False</td>\n",
              "      <td>False</td>\n",
              "      <td>False</td>\n",
              "      <td>1</td>\n",
              "    </tr>\n",
              "    <tr>\n",
              "      <th>20</th>\n",
              "      <td>mfccs_11_mean</td>\n",
              "      <td>False</td>\n",
              "      <td>False</td>\n",
              "      <td>False</td>\n",
              "      <td>True</td>\n",
              "      <td>False</td>\n",
              "      <td>False</td>\n",
              "      <td>1</td>\n",
              "    </tr>\n",
              "  </tbody>\n",
              "</table>\n",
              "</div>"
            ],
            "text/plain": [
              "          Feature  Pearson  Chi-2  ...  Random Forest  LightGBM  Count\n",
              "1    mfccs_9_mean     True   True  ...           True      True      5\n",
              "2        rms_mean     True   True  ...           True      True      4\n",
              "3     mfccs_8_std     True   True  ...           True     False      4\n",
              "4     mfccs_7_std     True   True  ...           True     False      4\n",
              "5    mfccs_10_std     True   True  ...           True     False      4\n",
              "6    mfccs_0_mean     True   True  ...           True      True      4\n",
              "7         rms_std     True   True  ...          False      True      3\n",
              "8    mfccs_8_mean     True   True  ...           True     False      3\n",
              "9   mfccs_12_mean     True  False  ...          False      True      3\n",
              "10       mel_mean    False   True  ...           True      True      3\n",
              "11       rms_skew    False  False  ...          False     False      2\n",
              "12   mfccs_2_mean     True  False  ...          False      True      2\n",
              "13   mfccs_1_mean    False  False  ...           True      True      2\n",
              "14  mfccs_10_mean    False  False  ...           True      True      2\n",
              "15        mel_std    False   True  ...          False      True      2\n",
              "16      cent_skew    False  False  ...          False     False      2\n",
              "17    mfccs_5_std    False  False  ...          False     False      1\n",
              "18    mfccs_4_std    False  False  ...          False     False      1\n",
              "19   mfccs_11_std    False  False  ...          False     False      1\n",
              "20  mfccs_11_mean    False  False  ...          False     False      1\n",
              "\n",
              "[20 rows x 8 columns]"
            ]
          },
          "metadata": {
            "tags": []
          },
          "execution_count": 34
        }
      ]
    },
    {
      "cell_type": "code",
      "metadata": {
        "colab": {
          "base_uri": "https://localhost:8080/",
          "height": 456
        },
        "id": "N92VJa0Is2Z2",
        "outputId": "41a8f93b-71d1-429e-bce3-e88f99b3831f"
      },
      "source": [
        "# Anova for feature selection\n",
        "\n",
        "from sklearn.feature_selection import SelectKBest, f_classif\n",
        "from matplotlib import pyplot\n",
        "\n",
        "X_train, X_test, y_train, y_test = train_test_split(X, y, test_size=.5) \n",
        "fs = SelectKBest(score_func=f_classif, k=10)\n",
        "fs.fit(X_train, y_train)\n",
        "X_train_fs = fs.transform(X_train)\n",
        "X_test_fs = fs.transform(X_test)\n",
        "dfcolumns = pd.DataFrame(X.columns)\n",
        "dfscores = pd.DataFrame(fs.scores_)\n",
        "fs_support = fs.get_support()\n",
        "\n",
        "# concat two dataframes for better visualization \n",
        "featureScores = pd.concat([dfcolumns, dfscores],axis=1)\n",
        "featureScores.columns = ['Features', 'Normalized Score']  # naming the dataframe columns\n",
        "n_largest = featureScores.nlargest(10, 'Normalized Score')\n",
        "print(n_largest)\n",
        "# n_largest['Normalized Score'].values\n",
        "pyplot.barh([i for i in range(len(n_largest))], n_largest['Normalized Score'].values, tick_label=n_largest['Features'].values)\n",
        "pyplot.show()"
      ],
      "execution_count": 8,
      "outputs": [
        {
          "output_type": "stream",
          "text": [
            "        Features  Normalized Score\n",
            "0   mfccs 0 mean         54.880593\n",
            "26      rms mean         51.637350\n",
            "18  mfccs 9 mean         46.773701\n",
            "27       rms std         39.894529\n",
            "15   mfccs 7 std         39.168532\n",
            "16  mfccs 8 mean         38.303079\n",
            "4   mfccs 2 mean         35.583309\n",
            "17   mfccs 8 std         28.198883\n",
            "23  mfccs 11 std         26.060780\n",
            "14  mfccs 7 mean         24.944665\n"
          ],
          "name": "stdout"
        },
        {
          "output_type": "display_data",
          "data": {
            "image/png": "[encoded data removed]",
            "text/plain": [
              "<Figure size 432x288 with 1 Axes>"
            ]
          },
          "metadata": {
            "tags": [],
            "needs_background": "light"
          }
        }
      ]
    },
    {
      "cell_type": "code",
      "metadata": {
        "colab": {
          "base_uri": "https://localhost:8080/",
          "height": 456
        },
        "id": "-5_baWUQ0Ycn",
        "outputId": "5ce42ed0-8ce1-4cd4-d2b4-7d3d331e6b65"
      },
      "source": [
        "# Run ANoVa 100 times and average the results\n",
        "\n",
        "from sklearn.feature_selection import SelectKBest, f_classif\n",
        "from matplotlib import pyplot\n",
        "from sklearn.model_selection import train_test_split\n",
        "import pandas as pd\n",
        "import numpy as np\n",
        "\n",
        "features_df = pd.read_csv(\"features_df.csv\")\n",
        "features = features_df.drop(['Unnamed: 0', 'Engaged'], axis=1)\n",
        "labels = features_df['Engaged']\n",
        "X = features\n",
        "y = labels\n",
        " \n",
        "featureScores = pd.DataFrame()\n",
        "iterations = 100\n",
        "for i in range(iterations):\n",
        "  X_train, X_test, y_train, y_test = train_test_split(X, y, test_size=.5) \n",
        "  fs = SelectKBest(score_func=f_classif, k=10)\n",
        "  fs.fit(X_train, y_train)\n",
        "  X_train_fs = fs.transform(X_train)\n",
        "  X_test_fs = fs.transform(X_test)\n",
        "  dfcolumns = pd.DataFrame(X.columns)\n",
        "  dfscores = pd.DataFrame(fs.scores_)\n",
        "  fs_support = fs.get_support()\n",
        "\n",
        "  # concat two dataframes for better visualization \n",
        "  temp = pd.concat([dfcolumns, dfscores],axis=1)\n",
        "  temp.columns = ['Features', 'Normalized Score']  # naming the dataframe columns\n",
        "  if featureScores.empty:\n",
        "    featureScores = temp\n",
        "  else:\n",
        "    featScores_values = featureScores['Normalized Score'].values\n",
        "    temp_values = temp['Normalized Score'].values\n",
        "    arr = featScores_values + temp_values\n",
        "    dfscores = pd.DataFrame(arr)\n",
        "    featureScores = pd.concat([dfcolumns, dfscores], axis=1)\n",
        "    featureScores.columns = ['Features', 'Normalized Score']\n",
        "\n",
        "featureScores.columns = ['Features', 'Normalized Score']\n",
        "n_largest = featureScores.nlargest(10, 'Normalized Score')\n",
        "avg_values = n_largest['Normalized Score'].values \n",
        "avg_values /= iterations\n",
        "print(n_largest)\n",
        "pyplot.barh([i for i in range(len(n_largest))], n_largest['Normalized Score'].values, tick_label=n_largest['Features'].values)\n",
        "pyplot.show()"
      ],
      "execution_count": 15,
      "outputs": [
        {
          "output_type": "stream",
          "text": [
            "         Features  Normalized Score\n",
            "0    mfccs 0 mean         49.280580\n",
            "18   mfccs 9 mean         44.444861\n",
            "26       rms mean         39.902593\n",
            "16   mfccs 8 mean         39.192581\n",
            "15    mfccs 7 std         39.062353\n",
            "21   mfccs 10 std         31.789145\n",
            "17    mfccs 8 std         30.559484\n",
            "4    mfccs 2 mean         29.527696\n",
            "27        rms std         28.353720\n",
            "24  mfccs 12 mean         28.302763\n"
          ],
          "name": "stdout"
        },
        {
          "output_type": "display_data",
          "data": {
            "image/png": "[encoded data removed]",
            "text/plain": [
              "<Figure size 432x288 with 1 Axes>"
            ]
          },
          "metadata": {
            "tags": [],
            "needs_background": "light"
          }
        }
      ]
    },
    {
      "cell_type": "markdown",
      "metadata": {
        "id": "4cMORAeSnhZh"
      },
      "source": [
        "We clearly see that MFCCS and RMS contribute most to the model, how well does our model perform if we just use the top ten features?"
      ]
    },
    {
      "cell_type": "code",
      "metadata": {
        "id": "2lRgAXUmnwDE"
      },
      "source": [
        "top_ten_df = pd.DataFrame()\n",
        "arr = []\n",
        "for feature in n_largest['Features']:\n",
        "    arr.append(X[feature].values)\n",
        "arr = np.array(arr).T\n",
        "reduced_X = pd.DataFrame(arr, columns=n_largest['Features'].values)"
      ],
      "execution_count": 16,
      "outputs": []
    },
    {
      "cell_type": "code",
      "metadata": {
        "colab": {
          "base_uri": "https://localhost:8080/",
          "height": 626
        },
        "id": "zT6d-sPNtYDX",
        "outputId": "4877bd53-4381-4749-999f-1d652db0e8f9"
      },
      "source": [
        "run_random_forest(reduced_X, y)"
      ],
      "execution_count": 23,
      "outputs": [
        {
          "output_type": "stream",
          "text": [
            "[[40  7]\n",
            " [12 42]]\n",
            "Accuracy of Random Forest : 0.8118811881188119\n",
            "              precision    recall  f1-score   support\n",
            "\n",
            "         0.0       0.77      0.85      0.81        47\n",
            "         1.0       0.86      0.78      0.82        54\n",
            "\n",
            "    accuracy                           0.81       101\n",
            "   macro avg       0.81      0.81      0.81       101\n",
            "weighted avg       0.82      0.81      0.81       101\n",
            "\n"
          ],
          "name": "stdout"
        },
        {
          "output_type": "execute_result",
          "data": {
            "text/plain": [
              "RandomForestClassifier(bootstrap=True, ccp_alpha=0.0, class_weight=None,\n",
              "                       criterion='gini', max_depth=None, max_features='auto',\n",
              "                       max_leaf_nodes=None, max_samples=None,\n",
              "                       min_impurity_decrease=0.0, min_impurity_split=None,\n",
              "                       min_samples_leaf=1, min_samples_split=2,\n",
              "                       min_weight_fraction_leaf=0.0, n_estimators=100,\n",
              "                       n_jobs=None, oob_score=False, random_state=None,\n",
              "                       verbose=0, warm_start=False)"
            ]
          },
          "metadata": {
            "tags": []
          },
          "execution_count": 23
        },
        {
          "output_type": "display_data",
          "data": {
            "image/png": "[encoded data removed]",
            "text/plain": [
              "<Figure size 432x288 with 2 Axes>"
            ]
          },
          "metadata": {
            "tags": [],
            "needs_background": "light"
          }
        }
      ]
    },
    {
      "cell_type": "markdown",
      "metadata": {
        "id": "eAvc24H_nqVD"
      },
      "source": [
        "Comparable results! That's very good to see"
      ]
    },
    {
      "cell_type": "code",
      "metadata": {
        "colab": {
          "base_uri": "https://localhost:8080/",
          "height": 557
        },
        "id": "lc7BaLgrtmLS",
        "outputId": "a610560b-113b-417e-ce46-23abc5c955f9"
      },
      "source": [
        "run_svm(reduced_X, y)"
      ],
      "execution_count": 26,
      "outputs": [
        {
          "output_type": "stream",
          "text": [
            "[[37 10]\n",
            " [11 43]]\n",
            "Accuracy of SVM : 0.7920792079207921\n",
            "              precision    recall  f1-score   support\n",
            "\n",
            "         0.0       0.77      0.79      0.78        47\n",
            "         1.0       0.81      0.80      0.80        54\n",
            "\n",
            "    accuracy                           0.79       101\n",
            "   macro avg       0.79      0.79      0.79       101\n",
            "weighted avg       0.79      0.79      0.79       101\n",
            "\n"
          ],
          "name": "stdout"
        },
        {
          "output_type": "execute_result",
          "data": {
            "text/plain": [
              "SVC(C=1.0, break_ties=False, cache_size=200, class_weight=None, coef0=0.0,\n",
              "    decision_function_shape='ovr', degree=3, gamma='scale', kernel='linear',\n",
              "    max_iter=-1, probability=False, random_state=None, shrinking=True,\n",
              "    tol=0.001, verbose=False)"
            ]
          },
          "metadata": {
            "tags": []
          },
          "execution_count": 26
        },
        {
          "output_type": "display_data",
          "data": {
            "image/png": "[encoded data removed]",
            "text/plain": [
              "<Figure size 432x288 with 2 Axes>"
            ]
          },
          "metadata": {
            "tags": [],
            "needs_background": "light"
          }
        }
      ]
    },
    {
      "cell_type": "markdown",
      "metadata": {
        "id": "_LGu8zXhnunR"
      },
      "source": [
        "Even the SVM performs well"
      ]
    },
    {
      "cell_type": "markdown",
      "metadata": {
        "id": "Dq41MuEKpmcJ"
      },
      "source": [
        "### Correlation Map"
      ]
    },
    {
      "cell_type": "code",
      "metadata": {
        "colab": {
          "base_uri": "https://localhost:8080/",
          "height": 361
        },
        "id": "QL3k4BPhplsf",
        "outputId": "73252864-af89-44a4-9533-579485174f74"
      },
      "source": [
        "import seaborn as sns\n",
        "\n",
        "import matplotlib.pyplot as plt\n",
        "\n",
        "orig_corr_matrix = X.corr()\n",
        "sns.heatmap(orig_corr_matrix)\n"
      ],
      "execution_count": 32,
      "outputs": [
        {
          "output_type": "execute_result",
          "data": {
            "text/plain": [
              "<matplotlib.axes._subplots.AxesSubplot at 0x7fe0c751e050>"
            ]
          },
          "metadata": {
            "tags": []
          },
          "execution_count": 32
        },
        {
          "output_type": "display_data",
          "data": {
            "image/png": "[encoded data removed]",
            "text/plain": [
              "<Figure size 432x288 with 2 Axes>"
            ]
          },
          "metadata": {
            "tags": [],
            "needs_background": "light"
          }
        }
      ]
    },
    {
      "cell_type": "code",
      "metadata": {
        "colab": {
          "base_uri": "https://localhost:8080/",
          "height": 353
        },
        "id": "iTh7p1PdqdDK",
        "outputId": "569d75d6-aabb-470c-e3fe-2422e206a282"
      },
      "source": [
        "reduced_corr_matrix = reduced_X.corr()\n",
        "sns.heatmap(reduced_corr_matrix)"
      ],
      "execution_count": 33,
      "outputs": [
        {
          "output_type": "execute_result",
          "data": {
            "text/plain": [
              "<matplotlib.axes._subplots.AxesSubplot at 0x7fe0c735f590>"
            ]
          },
          "metadata": {
            "tags": []
          },
          "execution_count": 33
        },
        {
          "output_type": "display_data",
          "data": {
            "image/png": "[encoded data removed]",
            "text/plain": [
              "<Figure size 432x288 with 2 Axes>"
            ]
          },
          "metadata": {
            "tags": [],
            "needs_background": "light"
          }
        }
      ]
    },
    {
      "cell_type": "markdown",
      "metadata": {
        "id": "_v96H0hdny1A"
      },
      "source": [
        "We see relatively low correlation between the top features"
      ]
    },
    {
      "cell_type": "markdown",
      "metadata": {
        "id": "IeOkNG_Jutjh"
      },
      "source": [
        "Ok, so we know MFCCS contribute most, but we already knew that from past literature. We see also rms, which wasn't mentioned in too many papers. What else is important?"
      ]
    },
    {
      "cell_type": "code",
      "metadata": {
        "colab": {
          "base_uri": "https://localhost:8080/",
          "height": 1000
        },
        "id": "MhM2nIZVu3fx",
        "outputId": "68808023-086f-4e37-dad5-7697d1b78ed2"
      },
      "source": [
        "# Run ANoVa 100 times and average the results\n",
        "\n",
        "from sklearn.feature_selection import SelectKBest, f_classif\n",
        "from matplotlib import pyplot\n",
        "from sklearn.model_selection import train_test_split\n",
        "import pandas as pd\n",
        "import numpy as np\n",
        "\n",
        "features_df = pd.read_csv(\"features_df.csv\")\n",
        "features = features_df.drop(['Unnamed: 0', 'Engaged'], axis=1)\n",
        "labels = features_df['Engaged']\n",
        "X = features\n",
        "y = labels\n",
        " \n",
        "featureScores = pd.DataFrame()\n",
        "iterations = 100\n",
        "for i in range(iterations):\n",
        "  X_train, X_test, y_train, y_test = train_test_split(X, y, test_size=.5) \n",
        "  fs = SelectKBest(score_func=f_classif, k=\"all\")\n",
        "  fs.fit(X_train, y_train)\n",
        "  X_train_fs = fs.transform(X_train)\n",
        "  X_test_fs = fs.transform(X_test)\n",
        "  dfcolumns = pd.DataFrame(X.columns)\n",
        "  dfscores = pd.DataFrame(fs.scores_)\n",
        "  fs_support = fs.get_support()\n",
        "\n",
        "  # concat two dataframes for better visualization \n",
        "  temp = pd.concat([dfcolumns, dfscores],axis=1)\n",
        "  temp.columns = ['Features', 'Normalized Score']  # naming the dataframe columns\n",
        "  if featureScores.empty:\n",
        "    featureScores = temp\n",
        "  else:\n",
        "    featScores_values = featureScores['Normalized Score'].values\n",
        "    temp_values = temp['Normalized Score'].values\n",
        "    arr = featScores_values + temp_values\n",
        "    dfscores = pd.DataFrame(arr)\n",
        "    featureScores = pd.concat([dfcolumns, dfscores], axis=1)\n",
        "    featureScores.columns = ['Features', 'Normalized Score']\n",
        "\n",
        "featureScores.columns = ['Features', 'Normalized Score']\n",
        "biggest_contributors = featureScores.sort_values(by=['Normalized Score'], ascending=False)\n",
        "avg_values = biggest_contributors['Normalized Score'].values \n",
        "avg_values /= iterations\n",
        "pd.set_option('display.max_rows', None)\n",
        "biggest_contributors"
      ],
      "execution_count": 34,
      "outputs": [
        {
          "output_type": "execute_result",
          "data": {
            "text/html": [
              "<div>\n",
              "<style scoped>\n",
              "    .dataframe tbody tr th:only-of-type {\n",
              "        vertical-align: middle;\n",
              "    }\n",
              "\n",
              "    .dataframe tbody tr th {\n",
              "        vertical-align: top;\n",
              "    }\n",
              "\n",
              "    .dataframe thead th {\n",
              "        text-align: right;\n",
              "    }\n",
              "</style>\n",
              "<table border=\"1\" class=\"dataframe\">\n",
              "  <thead>\n",
              "    <tr style=\"text-align: right;\">\n",
              "      <th></th>\n",
              "      <th>Features</th>\n",
              "      <th>Normalized Score</th>\n",
              "    </tr>\n",
              "  </thead>\n",
              "  <tbody>\n",
              "    <tr>\n",
              "      <th>0</th>\n",
              "      <td>mfccs 0 mean</td>\n",
              "      <td>46.474511</td>\n",
              "    </tr>\n",
              "    <tr>\n",
              "      <th>18</th>\n",
              "      <td>mfccs 9 mean</td>\n",
              "      <td>44.290741</td>\n",
              "    </tr>\n",
              "    <tr>\n",
              "      <th>16</th>\n",
              "      <td>mfccs 8 mean</td>\n",
              "      <td>39.503282</td>\n",
              "    </tr>\n",
              "    <tr>\n",
              "      <th>26</th>\n",
              "      <td>rms mean</td>\n",
              "      <td>39.409405</td>\n",
              "    </tr>\n",
              "    <tr>\n",
              "      <th>15</th>\n",
              "      <td>mfccs 7 std</td>\n",
              "      <td>39.080384</td>\n",
              "    </tr>\n",
              "    <tr>\n",
              "      <th>21</th>\n",
              "      <td>mfccs 10 std</td>\n",
              "      <td>32.731465</td>\n",
              "    </tr>\n",
              "    <tr>\n",
              "      <th>17</th>\n",
              "      <td>mfccs 8 std</td>\n",
              "      <td>30.733043</td>\n",
              "    </tr>\n",
              "    <tr>\n",
              "      <th>4</th>\n",
              "      <td>mfccs 2 mean</td>\n",
              "      <td>28.909751</td>\n",
              "    </tr>\n",
              "    <tr>\n",
              "      <th>24</th>\n",
              "      <td>mfccs 12 mean</td>\n",
              "      <td>28.901825</td>\n",
              "    </tr>\n",
              "    <tr>\n",
              "      <th>27</th>\n",
              "      <td>rms std</td>\n",
              "      <td>28.589529</td>\n",
              "    </tr>\n",
              "    <tr>\n",
              "      <th>20</th>\n",
              "      <td>mfccs 10 mean</td>\n",
              "      <td>28.287355</td>\n",
              "    </tr>\n",
              "    <tr>\n",
              "      <th>19</th>\n",
              "      <td>mfccs 9 std</td>\n",
              "      <td>26.991715</td>\n",
              "    </tr>\n",
              "    <tr>\n",
              "      <th>14</th>\n",
              "      <td>mfccs 7 mean</td>\n",
              "      <td>19.879993</td>\n",
              "    </tr>\n",
              "    <tr>\n",
              "      <th>41</th>\n",
              "      <td>mel mean</td>\n",
              "      <td>17.924532</td>\n",
              "    </tr>\n",
              "    <tr>\n",
              "      <th>25</th>\n",
              "      <td>mfccs 12 std</td>\n",
              "      <td>16.958828</td>\n",
              "    </tr>\n",
              "    <tr>\n",
              "      <th>42</th>\n",
              "      <td>mel std</td>\n",
              "      <td>16.808218</td>\n",
              "    </tr>\n",
              "    <tr>\n",
              "      <th>57</th>\n",
              "      <td>chroma 6 std</td>\n",
              "      <td>16.532134</td>\n",
              "    </tr>\n",
              "    <tr>\n",
              "      <th>63</th>\n",
              "      <td>chroma 9 std</td>\n",
              "      <td>16.449343</td>\n",
              "    </tr>\n",
              "    <tr>\n",
              "      <th>23</th>\n",
              "      <td>mfccs 11 std</td>\n",
              "      <td>15.827331</td>\n",
              "    </tr>\n",
              "    <tr>\n",
              "      <th>29</th>\n",
              "      <td>zrate mean</td>\n",
              "      <td>15.533192</td>\n",
              "    </tr>\n",
              "    <tr>\n",
              "      <th>2</th>\n",
              "      <td>mfccs 1 mean</td>\n",
              "      <td>15.376849</td>\n",
              "    </tr>\n",
              "    <tr>\n",
              "      <th>22</th>\n",
              "      <td>mfccs 11 mean</td>\n",
              "      <td>14.972086</td>\n",
              "    </tr>\n",
              "    <tr>\n",
              "      <th>56</th>\n",
              "      <td>chroma 6 mean</td>\n",
              "      <td>13.970594</td>\n",
              "    </tr>\n",
              "    <tr>\n",
              "      <th>64</th>\n",
              "      <td>chroma 10 mean</td>\n",
              "      <td>13.860876</td>\n",
              "    </tr>\n",
              "    <tr>\n",
              "      <th>7</th>\n",
              "      <td>mfccs 3 std</td>\n",
              "      <td>12.908179</td>\n",
              "    </tr>\n",
              "    <tr>\n",
              "      <th>5</th>\n",
              "      <td>mfccs 2 std</td>\n",
              "      <td>12.243981</td>\n",
              "    </tr>\n",
              "    <tr>\n",
              "      <th>37</th>\n",
              "      <td>flat skew</td>\n",
              "      <td>11.730506</td>\n",
              "    </tr>\n",
              "    <tr>\n",
              "      <th>62</th>\n",
              "      <td>chroma 9 mean</td>\n",
              "      <td>10.197544</td>\n",
              "    </tr>\n",
              "    <tr>\n",
              "      <th>13</th>\n",
              "      <td>mfccs 6 std</td>\n",
              "      <td>10.045752</td>\n",
              "    </tr>\n",
              "    <tr>\n",
              "      <th>67</th>\n",
              "      <td>chroma 11 std</td>\n",
              "      <td>9.662122</td>\n",
              "    </tr>\n",
              "    <tr>\n",
              "      <th>60</th>\n",
              "      <td>chroma 8 mean</td>\n",
              "      <td>9.633980</td>\n",
              "    </tr>\n",
              "    <tr>\n",
              "      <th>59</th>\n",
              "      <td>chroma 7 std</td>\n",
              "      <td>9.258150</td>\n",
              "    </tr>\n",
              "    <tr>\n",
              "      <th>58</th>\n",
              "      <td>chroma 7 mean</td>\n",
              "      <td>8.379831</td>\n",
              "    </tr>\n",
              "    <tr>\n",
              "      <th>66</th>\n",
              "      <td>chroma 11 mean</td>\n",
              "      <td>7.876670</td>\n",
              "    </tr>\n",
              "    <tr>\n",
              "      <th>30</th>\n",
              "      <td>zrate std</td>\n",
              "      <td>6.903127</td>\n",
              "    </tr>\n",
              "    <tr>\n",
              "      <th>6</th>\n",
              "      <td>mfccs 3 mean</td>\n",
              "      <td>6.757749</td>\n",
              "    </tr>\n",
              "    <tr>\n",
              "      <th>65</th>\n",
              "      <td>chroma 10 std</td>\n",
              "      <td>6.454036</td>\n",
              "    </tr>\n",
              "    <tr>\n",
              "      <th>52</th>\n",
              "      <td>chroma 4 mean</td>\n",
              "      <td>6.143403</td>\n",
              "    </tr>\n",
              "    <tr>\n",
              "      <th>61</th>\n",
              "      <td>chroma 8 std</td>\n",
              "      <td>5.911740</td>\n",
              "    </tr>\n",
              "    <tr>\n",
              "      <th>45</th>\n",
              "      <td>chroma 0 std</td>\n",
              "      <td>5.756854</td>\n",
              "    </tr>\n",
              "    <tr>\n",
              "      <th>28</th>\n",
              "      <td>rms skew</td>\n",
              "      <td>5.387704</td>\n",
              "    </tr>\n",
              "    <tr>\n",
              "      <th>43</th>\n",
              "      <td>mel skew</td>\n",
              "      <td>4.320318</td>\n",
              "    </tr>\n",
              "    <tr>\n",
              "      <th>51</th>\n",
              "      <td>chroma 3 std</td>\n",
              "      <td>4.235987</td>\n",
              "    </tr>\n",
              "    <tr>\n",
              "      <th>31</th>\n",
              "      <td>zrate skew</td>\n",
              "      <td>4.112853</td>\n",
              "    </tr>\n",
              "    <tr>\n",
              "      <th>55</th>\n",
              "      <td>chroma 5 std</td>\n",
              "      <td>3.575281</td>\n",
              "    </tr>\n",
              "    <tr>\n",
              "      <th>53</th>\n",
              "      <td>chroma 4 std</td>\n",
              "      <td>3.433474</td>\n",
              "    </tr>\n",
              "    <tr>\n",
              "      <th>54</th>\n",
              "      <td>chroma 5 mean</td>\n",
              "      <td>2.944027</td>\n",
              "    </tr>\n",
              "    <tr>\n",
              "      <th>44</th>\n",
              "      <td>chroma 0 mean</td>\n",
              "      <td>2.920889</td>\n",
              "    </tr>\n",
              "    <tr>\n",
              "      <th>10</th>\n",
              "      <td>mfccs 5 mean</td>\n",
              "      <td>2.497992</td>\n",
              "    </tr>\n",
              "    <tr>\n",
              "      <th>33</th>\n",
              "      <td>cent std</td>\n",
              "      <td>2.460624</td>\n",
              "    </tr>\n",
              "    <tr>\n",
              "      <th>34</th>\n",
              "      <td>cent skew</td>\n",
              "      <td>1.882386</td>\n",
              "    </tr>\n",
              "    <tr>\n",
              "      <th>8</th>\n",
              "      <td>mfccs 4 mean</td>\n",
              "      <td>1.804326</td>\n",
              "    </tr>\n",
              "    <tr>\n",
              "      <th>50</th>\n",
              "      <td>chroma 3 mean</td>\n",
              "      <td>1.641636</td>\n",
              "    </tr>\n",
              "    <tr>\n",
              "      <th>36</th>\n",
              "      <td>flat std</td>\n",
              "      <td>1.618096</td>\n",
              "    </tr>\n",
              "    <tr>\n",
              "      <th>32</th>\n",
              "      <td>cent mean</td>\n",
              "      <td>1.542536</td>\n",
              "    </tr>\n",
              "    <tr>\n",
              "      <th>12</th>\n",
              "      <td>mfccs 6 mean</td>\n",
              "      <td>1.306606</td>\n",
              "    </tr>\n",
              "    <tr>\n",
              "      <th>1</th>\n",
              "      <td>mfccs 0 std</td>\n",
              "      <td>1.300215</td>\n",
              "    </tr>\n",
              "    <tr>\n",
              "      <th>9</th>\n",
              "      <td>mfccs 4 std</td>\n",
              "      <td>1.178712</td>\n",
              "    </tr>\n",
              "    <tr>\n",
              "      <th>40</th>\n",
              "      <td>rolloff skew</td>\n",
              "      <td>1.058549</td>\n",
              "    </tr>\n",
              "    <tr>\n",
              "      <th>38</th>\n",
              "      <td>rolloff mean</td>\n",
              "      <td>0.977277</td>\n",
              "    </tr>\n",
              "    <tr>\n",
              "      <th>3</th>\n",
              "      <td>mfccs 1 std</td>\n",
              "      <td>0.970815</td>\n",
              "    </tr>\n",
              "    <tr>\n",
              "      <th>11</th>\n",
              "      <td>mfccs 5 std</td>\n",
              "      <td>0.957265</td>\n",
              "    </tr>\n",
              "    <tr>\n",
              "      <th>46</th>\n",
              "      <td>chroma 1 mean</td>\n",
              "      <td>0.919777</td>\n",
              "    </tr>\n",
              "    <tr>\n",
              "      <th>39</th>\n",
              "      <td>rolloff std</td>\n",
              "      <td>0.836775</td>\n",
              "    </tr>\n",
              "    <tr>\n",
              "      <th>49</th>\n",
              "      <td>chroma 2 std</td>\n",
              "      <td>0.719801</td>\n",
              "    </tr>\n",
              "    <tr>\n",
              "      <th>35</th>\n",
              "      <td>flat mean</td>\n",
              "      <td>0.573798</td>\n",
              "    </tr>\n",
              "    <tr>\n",
              "      <th>47</th>\n",
              "      <td>chroma 1 std</td>\n",
              "      <td>0.496443</td>\n",
              "    </tr>\n",
              "    <tr>\n",
              "      <th>48</th>\n",
              "      <td>chroma 2 mean</td>\n",
              "      <td>0.469607</td>\n",
              "    </tr>\n",
              "  </tbody>\n",
              "</table>\n",
              "</div>"
            ],
            "text/plain": [
              "          Features  Normalized Score\n",
              "0     mfccs 0 mean         46.474511\n",
              "18    mfccs 9 mean         44.290741\n",
              "16    mfccs 8 mean         39.503282\n",
              "26        rms mean         39.409405\n",
              "15     mfccs 7 std         39.080384\n",
              "21    mfccs 10 std         32.731465\n",
              "17     mfccs 8 std         30.733043\n",
              "4     mfccs 2 mean         28.909751\n",
              "24   mfccs 12 mean         28.901825\n",
              "27         rms std         28.589529\n",
              "20   mfccs 10 mean         28.287355\n",
              "19     mfccs 9 std         26.991715\n",
              "14    mfccs 7 mean         19.879993\n",
              "41        mel mean         17.924532\n",
              "25    mfccs 12 std         16.958828\n",
              "42         mel std         16.808218\n",
              "57    chroma 6 std         16.532134\n",
              "63    chroma 9 std         16.449343\n",
              "23    mfccs 11 std         15.827331\n",
              "29      zrate mean         15.533192\n",
              "2     mfccs 1 mean         15.376849\n",
              "22   mfccs 11 mean         14.972086\n",
              "56   chroma 6 mean         13.970594\n",
              "64  chroma 10 mean         13.860876\n",
              "7      mfccs 3 std         12.908179\n",
              "5      mfccs 2 std         12.243981\n",
              "37       flat skew         11.730506\n",
              "62   chroma 9 mean         10.197544\n",
              "13     mfccs 6 std         10.045752\n",
              "67   chroma 11 std          9.662122\n",
              "60   chroma 8 mean          9.633980\n",
              "59    chroma 7 std          9.258150\n",
              "58   chroma 7 mean          8.379831\n",
              "66  chroma 11 mean          7.876670\n",
              "30       zrate std          6.903127\n",
              "6     mfccs 3 mean          6.757749\n",
              "65   chroma 10 std          6.454036\n",
              "52   chroma 4 mean          6.143403\n",
              "61    chroma 8 std          5.911740\n",
              "45    chroma 0 std          5.756854\n",
              "28        rms skew          5.387704\n",
              "43        mel skew          4.320318\n",
              "51    chroma 3 std          4.235987\n",
              "31      zrate skew          4.112853\n",
              "55    chroma 5 std          3.575281\n",
              "53    chroma 4 std          3.433474\n",
              "54   chroma 5 mean          2.944027\n",
              "44   chroma 0 mean          2.920889\n",
              "10    mfccs 5 mean          2.497992\n",
              "33        cent std          2.460624\n",
              "34       cent skew          1.882386\n",
              "8     mfccs 4 mean          1.804326\n",
              "50   chroma 3 mean          1.641636\n",
              "36        flat std          1.618096\n",
              "32       cent mean          1.542536\n",
              "12    mfccs 6 mean          1.306606\n",
              "1      mfccs 0 std          1.300215\n",
              "9      mfccs 4 std          1.178712\n",
              "40    rolloff skew          1.058549\n",
              "38    rolloff mean          0.977277\n",
              "3      mfccs 1 std          0.970815\n",
              "11     mfccs 5 std          0.957265\n",
              "46   chroma 1 mean          0.919777\n",
              "39     rolloff std          0.836775\n",
              "49    chroma 2 std          0.719801\n",
              "35       flat mean          0.573798\n",
              "47    chroma 1 std          0.496443\n",
              "48   chroma 2 mean          0.469607"
            ]
          },
          "metadata": {
            "tags": []
          },
          "execution_count": 34
        }
      ]
    }
  ]
}